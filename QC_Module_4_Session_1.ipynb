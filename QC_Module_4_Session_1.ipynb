{
  "cells": [
    {
      "cell_type": "markdown",
      "metadata": {
        "id": "view-in-github",
        "colab_type": "text"
      },
      "source": [
        "<a href=\"https://colab.research.google.com/github/k1151msarandega/Exploring-New-Frontiers-with-Quantum-Computing/blob/main/QC_Module_4_Session_1.ipynb\" target=\"_parent\"><img src=\"https://colab.research.google.com/assets/colab-badge.svg\" alt=\"Open In Colab\"/></a>"
      ]
    },
    {
      "cell_type": "markdown",
      "id": "4eebdbce-31c7-4614-9549-1b7a9dd9587a",
      "metadata": {
        "tags": [],
        "id": "4eebdbce-31c7-4614-9549-1b7a9dd9587a"
      },
      "source": [
        "# Introduction to Quantum Computing and Qiskit\n",
        "\n",
        "<img src=\"https://drive.google.com/uc?id=1eBlhnvWo94RnzPK-86F5MzfFd86Cjb9C\" width=\"65\">\n",
        "\n",
        "\n",
        "Created by: The AVELA Team\n",
        "# **0. Welcome to the <a style=\"text-decoration:none;\" href=\"https://towardsdatascience.com/cheat-sheet-for-google-colab-63853778c093\"><font color='blue'>G</font><font color='red'>o</font><font color='Goldenrod'>o</font><font color='blue'>g</font><font color='green'>l</font><font color='red'>e</font><font color=\"black\"> Colab</font></a> notebook!**\n",
        "Make sure to read <u>every</u> cell in this notebook\n",
        "\n",
        " - Scroll up and down to read this notebook.\n",
        " - Click anywhere in the **Outline** to jump to that section.\n",
        " - If you accidentally click `Enter` on a cell (which puts the cell in Edit mode),\n",
        "press `Shift+Enter` to run the cell (to get back to Command mode).\n",
        "\n",
        "<hr class=\"intro\">"
      ]
    },
    {
      "cell_type": "markdown",
      "id": "611c6df7-b91c-4435-99f6-25772670ee7b",
      "metadata": {
        "id": "611c6df7-b91c-4435-99f6-25772670ee7b"
      },
      "source": [
        "# Exploring IBM Quantum Composer\n",
        "\n",
        "<hr class=\"intro\">\n",
        "\n",
        "### Outline:\n",
        "\n",
        "**[0. Introduction](#lesson1intro)**\n",
        "\n",
        "* [0.1 Open IBM Quantum Composer](#lesson1open)\n",
        "\n",
        "* [0.2 Ready to start?](#lesson1ready)\n",
        "\n",
        "**[1.1: Build a Quantum Circuit](#lesson1ex1)**\n",
        "\n",
        "**[1.2: Run a Simulation of an Ideal Quantum Computer](#lesson1ex2)**\n",
        "\n",
        "**[1.3: Exploration through Building](#lesson1ex3)**\n",
        "\n",
        "<hr class=\"intro\">"
      ]
    },
    {
      "cell_type": "markdown",
      "source": [
        "# Introduction <a name=\"lesson1intro\"></a>"
      ],
      "metadata": {
        "id": "fZKMdLBA8BdY"
      },
      "id": "fZKMdLBA8BdY"
    },
    {
      "cell_type": "markdown",
      "id": "8ddfb0c9-50f0-48ea-bf1e-2ac6fa0bf8a4",
      "metadata": {
        "id": "8ddfb0c9-50f0-48ea-bf1e-2ac6fa0bf8a4"
      },
      "source": [
        "\n",
        "\n",
        "In this lesson, we will learn how to use the **IBM Quantum Composer** to graphically build quantum circuits.\n",
        "\n",
        "Quantum Composer doesn't require any coding!\n",
        "\n",
        "You can build quantum circuits by using a drag-and-drop method that allows you to visualize the circuit and the qubit states created by the circuit.\n",
        "\n",
        "The goal of this lesson is to explore the features of IBM Quantum Composer.\n",
        "\n",
        "<img src=\"https://drive.google.com/uc?id=1hYiXBZVoUyXfLYzAdqHuPcRa8xGHREde\" alt=\"Open IBM Quantum Composer\" width=\"750\"><a name=\"lesson1open\"></a>  \n",
        "\n",
        "<div class=\"instructions\">\n",
        "<img src=\"https://drive.google.com/uc?id=1IOCShnT7KYKuhkoF7pKbqmA9qvKbrc0s\" alt=\"INSTRUCTIONS, Open IBM Quantum Composer by clicking on the 9-dot icon in the upper left corner\" width=\"750\">  \n",
        "\n",
        "<img src=\"https://drive.google.com/uc?id=1ylasC5oOiafnT_yBOUzlnNs9NT9O2TzM\n",
        "\" alt=\"center\" width=\"650\">\n",
        "\n",
        "<div class=\"instructions\">\n",
        "<img src=\"https://drive.google.com/uc?id=1OaLP4sDgU-GtVyRIX-n0Iv0qpA5bMWPl\" alt=\"Right-click on Composer and choose either Open Link in New Tab or Open Link in New Window\" width=\"750\">  \n",
        "\n",
        "\n",
        "<img src=\"https://drive.google.com/uc?id=187ns2OEO_NE69l2qDNDszzQ4mEBIkMTl\n",
        "\" alt=\"center\" width=\"350\">\n",
        "\n",
        "This opens up the **Quantum Composer** in a new browser tab or window.\n",
        "\n",
        "<img src=\"https://drive.google.com/uc?id=1dqaIfmRM0nAl7-slPsuep2wWoPJSjOe3\" alt=\"Ready to start?\" width=\"750\"><a name=\"lesson1ready\"></a>  \n",
        "\n",
        "At this point, check if:\n",
        "\n",
        "1. These instructions are open in this window.\n",
        "\n",
        "2. **Quantum Composer** is open in another window (or tab).  \n",
        "\n",
        "3. Close the left side panel, if it is open, to give yourself more room to see the material.\n",
        "\n",
        "If so, then you are ready to start the lesson.\n",
        "\n",
        "Quantum Composer should be open to a blank `Untitled circuit` and look like the picture below.\n",
        "\n",
        "You can build quantum circuits by dragging quantum operations one by one from the **Operations Catalog** on the left onto the **Graphical Circuit Editor** on the right.\n",
        "\n",
        "<img src=\"https://drive.google.com/uc?id=1Ht3f_mqtetKntBcykvhUOF5UGDRAJWLf\n",
        "\" alt=\"center\" width=\"675\">"
      ]
    },
    {
      "cell_type": "markdown",
      "source": [
        "# 1.1: Build a Quantum Circuit  <a name=\"lesson1ex1\"></a>  "
      ],
      "metadata": {
        "id": "GGu-TIm678D5"
      },
      "id": "GGu-TIm678D5"
    },
    {
      "cell_type": "markdown",
      "id": "2ef5f8f7-dd7f-4b01-82ca-2756a5807ec3",
      "metadata": {
        "id": "2ef5f8f7-dd7f-4b01-82ca-2756a5807ec3"
      },
      "source": [
        "<p class=\"note\">  \n",
        "<img src=\"https://drive.google.com/uc?id=1rbNSl1ax8Ofe8nFZVHdmD9dqgQ-WuHgz\" alt=\"NEW CONCEPT or SKILL: In a circuit diagram, the operations progress from left to right\" width=\"750\">  \n",
        "\n",
        "<img src=\"https://drive.google.com/uc?id=1zTLnYgaNKvJzBrrJAELqzHXi0I61q1Ef\" alt=\"center\" width=\"525\">\n",
        "\n",
        "\n",
        "\n",
        "<img src=\"https://drive.google.com/uc?id=1geLBPz6DVwGdv0fHtgH_3hxHMZi6Fff0\" alt=\"Step 1: Set up a 2-qubit circuit\" width=\"750\">  \n",
        "\n",
        "<p class=\"note\">\n",
        "<img src=\"https://drive.google.com/uc?id=1qdczjl7gI7vXhb1gFeFi0ubJCrNs84li\" alt=\"NEW CONCEPT or SKILL - A QUBIT is a basic unit of quantum information. The value of a qubit can be in a superposition of a 0 and 1 at the same time.\" width=\"750\">  \n",
        "\n",
        "\n",
        "In this section, we will start by building a simple quantum circuit in **IBM Quantum Composer**.\n",
        "\n",
        "It will have two quantum gates.\n",
        "\n",
        "First look at the qubits in the blank circuit you have open.\n",
        "\n",
        "By default, the circuit has four qubit \"wires\".\n",
        "\n",
        "- The four **qubits** are labeled `q[0]`, `q[1]`, `q[2]`, and `q[3]`.\n",
        "\n",
        "- Each label is followed by a **horizontal wire** that represents the qubit in the circuit.\n",
        "\n",
        "<div class=\"instructions\">\n",
        "<img src=\"https://drive.google.com/uc?id=1BBbvFX_YGp6adMrg2yHdeRSZ2CVKpwdB\" alt=\"INSTRUCTIONS: The quantum circuit we want to create only uses two qubits.  Let's remove two of the four qubits. Click on any two of the qubit labels, and click on the Trash Can icon to delete the qubits.\" width=\"750\">  \n",
        "</div>\n",
        "\n",
        "<img src=\"https://drive.google.com/uc?id=19_9Hr0mhaibnoCPJZWR7VyA2PvavCXYo\" alt=\"center\" width=\"150\">\n",
        "\n",
        "Your circuit should only have two qubits now, `q[0]` and `q[1]`.\n",
        "\n",
        "Right now our circuit is blank and should look like this:\n",
        "\n",
        "<img src=\"https://drive.google.com/uc?id=1opSzXUdf4G09yNPbazwX2q_tMb6QyYqj\" alt=\"center\" width=\"325\">\n",
        "\n",
        "<img src=\"https://drive.google.com/uc?id=1pNSw2TeyMEsGTzJ8OK_YVVynDrHPjDiY\" alt=\"Step 2: Remove two bits\" width=\"750\">  \n",
        "\n",
        "The bottom wire of the circuit holds measurement results in form of **bits** (zeros and ones).\n",
        "\n",
        "<img src=\"https://drive.google.com/uc?id=12bV_EXzN3cEA7wp_jBAPBWKqjeByrNCr\" alt=\"NEW CONCEPT or SKILL: A BIT is a basic unit of classical information. The value of a bit is either 0 or 1.\" width=\"750\">  \n",
        "\n",
        "Right now, the bottom wire is labeled `c4`, because it holds 4 bits.\n",
        "\n",
        "Let's delete two bits.\n",
        "\n",
        "<img src=\"https://drive.google.com/uc?id=1sTZieYvgTkLa6KpiPRLvmzVdsIboS_qq\" alt=\"INSTRUCTIONS: Click on the `c4` label, and click on the minus sign (-) twice to delete two bits from the bottom wire.\" width=\"750\">  \n",
        "\n",
        "<img src=\"https://drive.google.com/uc?id=1HHFH2WO-hd43dWqhV0dv1QqyJLue_NXT\" alt=\"center\" width=\"150\">\n",
        "\n",
        "Our circuit now looks like:\n",
        "\n",
        "<img src=\"https://drive.google.com/uc?id=1bXpOmiMSdJ4gLgAROgz_na6CiD_VhhBz\" alt=\"center\" width=\"250\">\n",
        "\n",
        "<img src=\"https://drive.google.com/uc?id=1Xbq0wcyGDyUiT5yUQ8Ip4bwPEEt4umZ9\" alt=\"Step 3: Drag and drop gates\" width=\"750\">  \n",
        "\n",
        "\n",
        "**Quantum Circuit**\n",
        "\n",
        "This is the circuit we want to build:\n",
        "\n",
        "<img src=\"https://drive.google.com/uc?id=16k1HMQZdGqZJCXxFhhtWVPfpG6s8RjAd\" alt=\"center\" width=\"300\">\n",
        "\n",
        "It is used for creating quantum entanglement.\n",
        "\n",
        "To create this circuit, we need to add two quantum operations:\n",
        "1. An **H gate**\n",
        "2. A **CNOT gate**.\n",
        "\n",
        "<img src=\"https://drive.google.com/uc?id=1Ht91G9ppMzLpyvIF26LdIeQUiavdEhWt\" alt=\"NEW CONCEPT or SKILL: A QUANTUM OPERATION changes the state of a qubit. Quantum circuits are built out of quantum operations like quantum gates and measurements.\" width=\"750\">  \n",
        "\n",
        "<p class=\"note\">\n",
        "Click to see a\n",
        "<a href=\"https://docs.google.com/document/d/e/2PACX-1vTOjwHu8OV754w-yM_RwZrc5sT4KeUb5yCDCbVoorTBv8KhLWEm9ODfALwPQyw8QDRWR3HjsLehjVyi/pub\">list of the quantum operations in IBM Quantum Composer</a> that we use in this course.\n",
        "</p>\n",
        "\n",
        "<img src=\"https://drive.google.com/uc?id=1QRyZ9ysz_DfSmfZ_YnC7VygYwKoE_tuU\" alt=\"center\" width=\"675\">\n",
        "\n",
        "<div class=\"instructions\">\n",
        "<img src=\"https://drive.google.com/uc?id=1nZBkk-Lh1q4jVO6zJEHGnEIe6mbgMKIr\" alt=\"INSTRUCTIONS. Add two gates. 1. Find the H gate from the Operations Catalog on the left. (It is orange and labeled with an H).\n",
        "Drag and drop it onto the top qubit `q[0]` in the circuit. 2. Find the CNOT gate (It is blue and is located two gates to the right of the H gate). Drag and drop it onto the circuit to the right of the H gate.\" width=\"750\">  \n",
        "\n",
        "</div>\n",
        "\n",
        "- **Quantum gates act on qubits**:\n",
        "   - The <strong>H gate</strong> only touches the qubit `q[0]`, so it *only* affects qubit `q[0]`, not qubit `q[1]`.\n",
        "\n",
        "   - The <strong>CNOT gate</strong> touches the wires for qubits `q[0]` and `q[1]`, so it operates on *both of these qubits*.\n",
        "    \n",
        "\n",
        "You should end up with a circuit that looks like the picture below.\n",
        "\n",
        "**Simple Entanglement Circuit:**\n",
        "\n",
        "<img src=\"https://drive.google.com/uc?id=16k1HMQZdGqZJCXxFhhtWVPfpG6s8RjAd\" alt=\"center\" width=\"300\">"
      ]
    },
    {
      "cell_type": "markdown",
      "id": "0cb6a871-a350-473f-b4b4-5e11987cfb91",
      "metadata": {
        "id": "0cb6a871-a350-473f-b4b4-5e11987cfb91"
      },
      "source": [
        "<img src=\"https://drive.google.com/uc?id=1N59bkNCMelpoO9PsQW5QXhY9oHwcZDIm\" alt=\"Questions:\" width=\"750\"><a id=\"lesson1q1\"></a><div class=\"questions\">\n",
        "\n",
        "<img src=\"https://drive.google.com/uc?id=1wGs6wt0ow6m7wV36UiJMFeQ0QQtIb-It\" alt=\"Questions: Now answer Lesson 1 In-Class <strong>Problems 1-3.\" width=\"750\"><a id=\"lesson1q1\"></a><div class=\"questions\">\n",
        "</div>"
      ]
    },
    {
      "cell_type": "markdown",
      "source": [
        "# 1.2: Run a Simulation of an Ideal Quantum Computer  <a name=\"lesson1ex2\"></a>  "
      ],
      "metadata": {
        "id": "teDlTcDK70I6"
      },
      "id": "teDlTcDK70I6"
    },
    {
      "cell_type": "markdown",
      "id": "da0973b1-2880-45fd-97f3-901b7acaad53",
      "metadata": {
        "id": "da0973b1-2880-45fd-97f3-901b7acaad53"
      },
      "source": [
        "In this exercise, we'll learn how to add some **measurements** to our circuit and try out the **simulation** feature of the IBM Quantum website.\n",
        "\n",
        "<img src=\"https://drive.google.com/uc?id=189Rpx06Iy9yCstKVKAdjt10aWw0B5meq\" alt=\"Step 1: Add measurements\" width=\"750\">\n",
        "\n",
        "\n",
        "Let's start with the circuit from the previous exercise.\n",
        "\n",
        "<img src=\"https://drive.google.com/uc?id=16k1HMQZdGqZJCXxFhhtWVPfpG6s8RjAd\" alt=\"center\" width=\"300\">\n",
        "\n",
        "<img src=\"https://drive.google.com/uc?id=1YeKi0559JNswzE2n9w7DoHYjLmDcKE6z\" alt=\"NEW CONCEPT or SKILL. A MEASUREMENT is an operation that measures or observes the state of the quantum circuit. We will learn more about measurements in Lesson 3.\" width=\"750\">\n",
        "\n",
        "<img src=\"https://drive.google.com/uc?id=1nNjsh_pXDhgcHXT7oTnVNuStk3gOvggq\" alt=\"center\" width=\"500\">\n",
        "\n",
        "<div class=\"instructions\">\n",
        "<img src=\"https://drive.google.com/uc?id=18e6F3SCTKpPAhw4ADrr5Lr34DCf7rayz\" alt=\"INSTRUCTIONS. Find the measurement operation on the left. Drag and drop a measurementon qubit q 0. Drag and drop a measurementon qubit q 1.\" width=\"750\">\n",
        "\n",
        "- Your figure should like the following figure:\n",
        "\n",
        "<img src=\"https://drive.google.com/uc?id=1aOmS05kU62mcqH0PK-FIoCVvemWaHNQ-\" alt=\"center\" width=\"300\">\n",
        "\n",
        "- Measurement results are sent down the vertical wires to the horizontal wire at the bottom of the circuit.\n",
        "\n",
        "The wire at the bottom is a register that stores all of the measurement results.\n",
        "\n",
        "<img src=\"https://drive.google.com/uc?id=13IlKYc4Tnm1-tx6WBmhl8R0Y1P78Bopy\" alt=\"Step 2: Visualization panels (simulation results)\" width=\"750\">\n",
        "\n",
        "There are two **Visualization Panels** below your circuit.\n",
        "\n",
        "Visualizations give you information about the output of your quantum circuit.\n",
        "\n",
        "<img src=\"https://drive.google.com/uc?id=1IBsyeayztuwqj8uh3wQ5y4xTR-ggT6oh\" alt=\"center\" width=\"650\">\n",
        "\n",
        "\n",
        "<img src=\"https://drive.google.com/uc?id=1tckLC5_fnMHLMS-Gd8f5_9O4r85t41Rc\" alt=\"NEW CONCEPT or SKILL. A SIMULATION is a calculation done on a classical (non-quantum) computer to show how your quantum circuit would run on a quantum computer. When you add measurements to a circuit, the Visualization Panels in Quantum Composer will show you the results of simulating your quantum circuit.\" width=\"750\">\n",
        "\n",
        "\n",
        "Look at the **Probabilities** visualization panel below your circuit.\n",
        "    \n",
        "For a circuit with measurements included, the visualization panel shows the results of simulating the circuit 1024 times.\n",
        "    \n",
        "A circuit with 2 qubits has **four possible outcomes**: 00, 01, 10, and 11.    \n",
        "\n",
        "\n",
        "<img src=\"https://drive.google.com/uc?id=1utQXZQBxoZ0cFVK53__cCU1fAOgvrnRG\" alt=\"INSTRUCTIONS. Hover your mouse over the graph to see the exact percentages for each possible outcome.\" width=\"750\">\n"
      ]
    },
    {
      "cell_type": "markdown",
      "id": "0b172a27-4e77-408b-9b17-55b1d0e710c6",
      "metadata": {
        "id": "0b172a27-4e77-408b-9b17-55b1d0e710c6"
      },
      "source": [
        "<img src=\"https://drive.google.com/uc?id=1wRLTnaF-GF4RUOt418zjk2Nxom7mFweg\" alt=\"Question:\" width=\"750\"><a id=\"lesson1q2\"></a>\n",
        "\n",
        "<img src=\"https://drive.google.com/uc?id=1WjqGxqo0T-9qeUgbBg03aobYQ9Az2qME\" alt=\"QUESTIONS. Now answer Lesson 1 In-Class Problem 4.\" width=\"750\">"
      ]
    },
    {
      "cell_type": "markdown",
      "source": [
        "# 1.3: Exploration through Building  <a name=\"lesson1ex3\"></a>  "
      ],
      "metadata": {
        "id": "3CgiBqiQ7uxV"
      },
      "id": "3CgiBqiQ7uxV"
    },
    {
      "cell_type": "markdown",
      "id": "08791a91-ea43-4349-a19b-14563f2cf930",
      "metadata": {
        "id": "08791a91-ea43-4349-a19b-14563f2cf930"
      },
      "source": [
        "In this exercise, we will let you explore and build your own quantum circuit using IBM Quantum Composer.\n",
        "\n",
        "<img src=\"https://drive.google.com/uc?id=1ZT1Mmo4x3_qH5zDgXfDfirY5d_JELtcQ\" alt=\"Step 1: New circuit\" width=\"750\">\n",
        "\n",
        "<img src=\"https://drive.google.com/uc?id=1Le4knqnNE1CGvy5CU9CUVwj_yNZ5epeS\" alt=\"INSTRUCTIONS. Click on the File menu and choose New to start a new circuit. Rename the circuit `ALICE's Circuit`. (Replace `ALICE` with your own name.)\" width=\"750\">\n",
        "\n",
        "\n",
        "<img src=\"https://drive.google.com/uc?id=1NsCUmTFGjFpjEKZcnRk8IfHFQyRyYf3Z\" alt=\"Step 2: Build your own circuit\" width=\"750\">\n",
        "\n",
        "<img src=\"https://drive.google.com/uc?id=1VrWOonv-ZvqpJIHJbmBBYqX3mK6arA0-\" alt=\"INSTRUCTIONS. Create a new quantum circuit in IBM Quantum Composer using the drag-and-drop method we learned in the previous exercise.\" width=\"750\">\n",
        "\n",
        "\n",
        "\n",
        "\n",
        "\n",
        "\n",
        "- To satisfy the requirements of this exercise, your circuit should have:\n",
        "\n",
        "  - At least 6 qubits (each wire represents one qubit)\n",
        "  - An H gate\n",
        "  - A NOT gate\n",
        "  - A Z gate\n",
        "  - Two CNOT gates that act on the different pairs of qubits in your circuit.\n",
        "  - At least two new operations that weren't mentioned yet."
      ]
    },
    {
      "cell_type": "markdown",
      "id": "2904366b-8601-45e1-a0c0-cd0c5b7a65e1",
      "metadata": {
        "id": "2904366b-8601-45e1-a0c0-cd0c5b7a65e1"
      },
      "source": [
        "<img src=\"https://drive.google.com/uc?id=1jbtIgqlcIP91iDYdNVe9Ox28-MwGW026\" alt=\"Click on the File menu and choose Export Change the format to `png`. Click on the **Export** button to download your image file.\" width=\"750\">\n",
        "\n",
        "<strong>Note</strong>: If the 'png' export fails, take a screenshot of your circuit.\n",
        "\n",
        "<img src=\"https://drive.google.com/uc?id=1q__R8gU8t4ENfLAqix5wGMri9_TkLcDx\" alt=\"Question:\" width=\"750\"><a id=\"lesson1q4\"></a>\n",
        "\n",
        "<img src=\"https://drive.google.com/uc?id=1XxCZjXwhyisiqQsTIc6v86oRDcChr13f\" alt=\"QUESTIONS. Now answer Lesson 1 In-Class Problem 7.\" width=\"750\"><a id=\"lesson1q4\"></a>\n",
        "\n",
        "   \n",
        "    "
      ]
    }
  ],
  "metadata": {
    "kernelspec": {
      "display_name": "Python 3 (ipykernel)",
      "language": "python",
      "name": "python3"
    },
    "language_info": {
      "codemirror_mode": {
        "name": "ipython",
        "version": 3
      },
      "file_extension": ".py",
      "mimetype": "text/x-python",
      "name": "python",
      "nbconvert_exporter": "python",
      "pygments_lexer": "ipython3",
      "version": "3.10.8"
    },
    "colab": {
      "provenance": [],
      "collapsed_sections": [
        "fZKMdLBA8BdY",
        "GGu-TIm678D5",
        "teDlTcDK70I6",
        "3CgiBqiQ7uxV"
      ],
      "include_colab_link": true
    }
  },
  "nbformat": 4,
  "nbformat_minor": 5
}