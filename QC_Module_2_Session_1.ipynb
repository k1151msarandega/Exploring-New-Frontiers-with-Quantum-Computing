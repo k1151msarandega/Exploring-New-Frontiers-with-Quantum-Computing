{
  "nbformat": 4,
  "nbformat_minor": 0,
  "metadata": {
    "colab": {
      "provenance": [],
      "collapsed_sections": [
        "BLgeNAYwwsof",
        "oRn4xcl3w9fN",
        "pHOCKCXExJEU",
        "biP3XD2TzNG-",
        "657KJWrJxyii",
        "BvODgKnRzU6t",
        "TLR-QyqtyGP1",
        "vWdLTWAmyR5q",
        "_XKI4QrSyg5i",
        "xaO-0O8Uym5w",
        "ICJRUj3MyyWu"
      ],
      "include_colab_link": true
    },
    "kernelspec": {
      "name": "python3",
      "display_name": "Python 3"
    },
    "language_info": {
      "name": "python"
    }
  },
  "cells": [
    {
      "cell_type": "markdown",
      "metadata": {
        "id": "view-in-github",
        "colab_type": "text"
      },
      "source": [
        "<a href=\"https://colab.research.google.com/github/k1151msarandega/Exploring-New-Frontiers-with-Quantum-Computing/blob/main/QC_Module_2_Session_1.ipynb\" target=\"_parent\"><img src=\"https://colab.research.google.com/assets/colab-badge.svg\" alt=\"Open In Colab\"/></a>"
      ]
    },
    {
      "cell_type": "markdown",
      "source": [
        "<img src=\"https://drive.google.com/uc?id=1eBlhnvWo94RnzPK-86F5MzfFd86Cjb9C\" width=\"65\">\n",
        "\n",
        "\n",
        "Created by: The AVELA Team\n",
        "# **0. Welcome to the <a style=\"text-decoration:none;\" href=\"https://towardsdatascience.com/cheat-sheet-for-google-colab-63853778c093\"><font color='blue'>G</font><font color='red'>o</font><font color='Goldenrod'>o</font><font color='blue'>g</font><font color='green'>l</font><font color='red'>e</font><font color=\"black\"> Colab</font></a> notebook!**\n",
        "Make sure to read <u>every</u> cell in this notebook to get your Quantum Computing [Python](https://docs.google.com/document/d/1gen8uhv7UC_Qo5wT5paX8tesrSffhXlK9WDYunmcWgs/edit?usp=sharing) code working! \\\\\n",
        "To run code, all you have to do is click the *run* button ▶️ (triangle in a circle). \\\\\n",
        "\n",
        "\n",
        "Your job will be to **replace** the question marks (?) in each coding cell with the **correct** information explained in the comments. Then run the cell! \\\\\n",
        "\n",
        "NOTE: If there are no question marks (?) in a cell, then just click the *run* button!"
      ],
      "metadata": {
        "id": "ZK02C76e2eB1"
      }
    },
    {
      "cell_type": "markdown",
      "source": [
        "# **🔹 Activity 1: Quantization – Discrete vs. Continuous Values**"
      ],
      "metadata": {
        "id": "BLgeNAYwwsof"
      }
    },
    {
      "cell_type": "markdown",
      "source": [
        "\n",
        "## 📌 Introduction to Quantization\n",
        "\n",
        "In **classical physics**, many properties (like **speed, temperature, or position**) are **continuous**, meaning they can take any value within a range.\n",
        "\n",
        "However, in **quantum mechanics**, many properties are **quantized**, meaning they can only take **specific discrete values**.\n",
        "\n",
        "### 🔬 Examples:\n",
        "- **Energy levels** in an atom are **discrete** (electrons **cannot** have arbitrary energy).\n",
        "- **Spin states** can only be **up (+1/2)** or **down (-1/2)**.\n",
        "\n",
        "<img src=\"https://drive.google.com/uc?id=1iDNJuoOpHNZIyF4hLSEZhKjb6NVRhgE6\" width=\"265\">\n",
        "\n",
        "---\n",
        "## 🎯 Your Task:\n",
        "Simulate a **quantized system** where **only discrete values are allowed**. 🚀\n",
        "\n",
        "---\n",
        "\n",
        "## 🔹 Task 1: Implementing Quantized Values\n",
        "\n",
        "## 🔍 What You'll Learn\n",
        "✅ Understand the concept of **discrete vs. continuous** values  \n",
        "✅ Implement a **function** that enforces **quantization**  \n",
        "✅ **Visualize** continuous vs. quantized values  \n",
        "\n",
        "---\n",
        "\n",
        "## ✅ Your Task\n",
        "Modify the function below to **ensure that only discrete (quantized) values are returned**.\n"
      ],
      "metadata": {
        "id": "KmfmaqybShvy"
      }
    },
    {
      "cell_type": "code",
      "execution_count": null,
      "metadata": {
        "id": "fjuT_vMI0i8K"
      },
      "outputs": [],
      "source": [
        "import numpy as np\n",
        "import matplotlib.pyplot as plt\n",
        "\n",
        "def quantized_values(n, step=1):\n",
        "    \"\"\"\n",
        "    Generates a list of discrete (quantized) values.\n",
        "    Parameters:\n",
        "        n (int): Number of discrete levels\n",
        "        step (float): Interval between discrete levels\n",
        "    Returns:\n",
        "        list: Discrete quantized values\n",
        "    \"\"\"\n",
        "    return [? for i in range(?) ]  # Replace ? with correct logic\n",
        "\n",
        "# Interactive Part: User Input\n",
        "total_levels = int(input(\"Enter the number of discrete levels (e.g., 10, 20, 50): \"))\n",
        "step_size = float(input(\"Enter the step size for quantization (e.g., 0.5, 1, 2): \"))\n",
        "\n",
        "# Generate quantized values\n",
        "quantized_states = quantized_values(total_levels, step_size)\n",
        "\n",
        "print(\"Quantized States:\", quantized_states)\n"
      ]
    },
    {
      "cell_type": "markdown",
      "source": [
        "## 🔹 Task 2: Visualizing Continuous vs. Quantized Values\n",
        "\n",
        "## 🔍 What You'll Learn\n",
        "✅ How **quantization** affects real-world systems  \n",
        "✅ Compare **continuous values** vs. **quantized values**  \n",
        "✅ Use **plots** to see the difference **visually**  \n",
        "\n",
        "---\n",
        "\n",
        "## ✅ Your Task\n",
        "Fill in the **missing logic** to correctly **plot the difference** between **continuous vs. quantized values**.\n"
      ],
      "metadata": {
        "id": "uaw1X0lESucf"
      }
    },
    {
      "cell_type": "code",
      "source": [
        "# Generate continuous and quantized data\n",
        "x_continuous = np.linspace(0, ?, ?)  # Replace ? with correct range\n",
        "y_continuous = ?  # Define continuous values\n",
        "\n",
        "y_quantized = quantized_values(?, ?)  # Call your function with appropriate parameters\n",
        "\n",
        "plt.figure(figsize=(8, 5))\n",
        "plt.plot(?, ?, label='Continuous Values', linestyle='dashed', color='gray')  # Plot continuous line\n",
        "plt.scatter(?, ?, color='red', label='Quantized Values')  # Plot discrete points\n",
        "plt.xlabel(\"Input\")\n",
        "plt.ylabel(\"Output\")\n",
        "plt.title(\"Continuous vs. Quantized Values\")\n",
        "plt.legend()\n",
        "plt.grid(True)\n",
        "plt.show()\n"
      ],
      "metadata": {
        "id": "04Fl46_pTDcS"
      },
      "execution_count": null,
      "outputs": []
    },
    {
      "cell_type": "markdown",
      "source": [
        "## 📌 Expected Output\n",
        "\n",
        "- The **printed list** of **quantized values** should show values **increasing in fixed steps**.\n",
        "- The **plot should show**:\n",
        "  - A **smooth dashed line** representing **continuous values**.\n",
        "  - **Red dots** representing **quantized values** at specific intervals.\n",
        "\n",
        "---\n",
        "\n",
        "## 🎯 Bonus Challenge\n",
        "\n",
        "Modify the function to:  \n",
        "✅ Accept a **starting value** (instead of always beginning at 0).  \n",
        "✅ Implement **logarithmic quantization**, where steps follow a **power of 2** instead of **linear spacing**.  \n"
      ],
      "metadata": {
        "id": "9KYIt3mTTHA_"
      }
    },
    {
      "cell_type": "code",
      "source": [
        "# Start Bonus Challenge Here"
      ],
      "metadata": {
        "id": "mdEYilRxTbE1"
      },
      "execution_count": null,
      "outputs": []
    },
    {
      "cell_type": "markdown",
      "source": [
        "# **🔹 Activity 2: Wave-Particle Duality**"
      ],
      "metadata": {
        "id": "oRn4xcl3w9fN"
      }
    },
    {
      "cell_type": "markdown",
      "source": [
        "\n",
        "## 📌 Introduction to Wave-Particle Duality\n",
        "\n",
        "In **quantum mechanics**, **wave-particle duality** describes how **quantum objects** (like **electrons** or **photons**) exhibit both **wave-like** and **particle-like** behaviors depending on the experiment.\n",
        "\n",
        "<img src=\"https://drive.google.com/uc?id=1USFk1xerH98kQMBLQtK2C8BvmQBU2UVh\" width=\"265\">\n",
        "\n",
        "### 🔬 Examples:\n",
        "- **Wave-like behavior**: **Interference and diffraction patterns** in a **double-slit experiment**.\n",
        "- **Particle-like behavior**: **Discrete detections** when measured.\n",
        "\n",
        "\n",
        "---\n",
        "\n",
        "## 🎯 Your Task:\n",
        "Modify the **code** to correctly **model both behaviors** and **visualize them**. 🚀\n",
        "\n",
        "---\n",
        "\n",
        "## 🔹 Task 1: Modeling Wave-Particle Duality\n",
        "\n",
        "## 🔍 What You'll Learn\n",
        "✅ Understand the **dual nature** of quantum objects  \n",
        "✅ Implement a **wave function** (sinusoidal oscillation)  \n",
        "✅ Implement a **particle function** (discrete step-like behavior)  \n",
        "\n",
        "---\n",
        "\n",
        "## ✅ Your Task\n",
        "Modify the **function definitions** to correctly **model both behaviors**.\n"
      ],
      "metadata": {
        "id": "9WXAp_rnTi_w"
      }
    },
    {
      "cell_type": "code",
      "source": [
        "import numpy as np\n",
        "import matplotlib.pyplot as plt\n",
        "\n",
        "# Define the range of positions\n",
        "x = np.linspace(-10, 10, 400)\n",
        "\n",
        "# TODO: Modify these functions to model both behaviors\n",
        "wave_behavior = np.sin(? * np.pi * x / ?)  # Replace ? with the correct frequency factor\n",
        "particle_behavior = np.heaviside(?, ?)  # Replace ? with correct step function parameters\n",
        "\n",
        "# Visualization\n",
        "plt.figure(figsize=(8, 5))\n",
        "plt.plot(?, ?, label=\"Wave Behavior\", color='blue')  # Replace ? to correctly plot the wave\n",
        "plt.plot(?, ?, label=\"Particle Behavior\", linestyle=\"dashed\", color='red')  # Replace ? to correctly plot the particle\n",
        "plt.xlabel(\"Position\")\n",
        "plt.ylabel(\"Amplitude\")\n",
        "plt.title(\"Wave-Particle Duality\")\n",
        "plt.legend()\n",
        "plt.grid(True)\n",
        "plt.show()\n"
      ],
      "metadata": {
        "id": "WG3uzcApUoJC"
      },
      "execution_count": null,
      "outputs": []
    },
    {
      "cell_type": "markdown",
      "source": [
        "## 💡 Hints\n",
        "\n",
        "- The **wave function** should be a sinusoidal function like **sin(kx)**, where **k** determines **frequency**.\n",
        "- The **particle function** should be a **step function** (Heaviside function), which changes **abruptly** at a point.\n",
        "- Use `np.pi` for correct **π representation**.\n",
        "\n",
        "---\n",
        "\n",
        "## 📌 Expected Output\n",
        "\n",
        "- The **blue wave** should **oscillate smoothly**, representing the **wave-like nature** of quantum particles.\n",
        "- The **red dashed line** should be a **step function**, representing **discrete state changes**.\n",
        "\n",
        "---\n",
        "\n",
        "## 🎯 Bonus Challenge\n",
        "\n",
        "Modify the **wave function** to include a **Gaussian envelope**, creating a **wave packet** similar to an **electron’s probability distribution**:\n",
        "$$\n",
        "\\psi(x) = e^{-x^2} \\cdot \\sin(kx)\n",
        "$$\n",
        "\n",
        "🚀\n"
      ],
      "metadata": {
        "id": "_GRvCVCPUsEQ"
      }
    },
    {
      "cell_type": "code",
      "source": [
        "# Start Bonus Challenge Here"
      ],
      "metadata": {
        "id": "G2bUQKOGW1Q5"
      },
      "execution_count": null,
      "outputs": []
    },
    {
      "cell_type": "markdown",
      "source": [
        "# **🔹 Activity 3: Superposition Simulation**"
      ],
      "metadata": {
        "id": "pHOCKCXExJEU"
      }
    },
    {
      "cell_type": "markdown",
      "source": [
        "\n",
        "## 📌 Introduction to Superposition\n",
        "\n",
        "<img src=\"https://drive.google.com/uc?id=1wNAMcIl1VX8MMiVV4QN8WK0N13bbSMEe\" width=\"350\">\n",
        "\n",
        "In **quantum mechanics**, a **qubit** can exist in a **superposition** of states **|0⟩** and **|1⟩** simultaneously.\n",
        "\n",
        "However, when **measured**, the qubit **collapses** into either **|0⟩** or **|1⟩**, with **probabilities determined by its wave function**.\n",
        "\n",
        "---\n",
        "\n",
        "## 🎯 Your Task:\n",
        "Simulate the **measurement** of a **qubit in superposition** using **classical Python**. 🚀\n",
        "\n",
        "---\n",
        "\n",
        "## 🔹 Task 1: Simulating a Qubit in Superposition\n",
        "\n",
        "## 🔍 What You'll Learn\n",
        "✅ How **superposition** allows qubits to exist in **multiple states** before measurement  \n",
        "✅ Implement a **random selection mechanism** to model **quantum state collapse**  \n",
        "✅ **Visualize measurement results** with a **histogram**  \n",
        "\n",
        "---\n",
        "\n",
        "## ✅ Your Task\n",
        "Modify the function below so that a **qubit collapses** to **|0⟩** or **|1⟩** **with equal probability** when measured.\n"
      ],
      "metadata": {
        "id": "j9RT5E4JWBbA"
      }
    },
    {
      "cell_type": "code",
      "source": [
        "import random\n",
        "import numpy as np\n",
        "import matplotlib.pyplot as plt\n",
        "\n",
        "def superposition():\n",
        "    \"\"\"\n",
        "    Simulates a qubit in superposition, collapsing to |0⟩ or |1⟩ with equal probability.\n",
        "    \"\"\"\n",
        "    return random.choice([?, ?])  # Replace ? with correct quantum states\n",
        "\n",
        "# Simulate multiple measurements\n",
        "measurements = [? for _ in range(1000)]  # Replace ? with correct function call\n",
        "\n",
        "# Count occurrences of |0⟩ and |1⟩\n",
        "zero_count = ?.count(\"|0⟩\")  # Replace ? with correct variable\n",
        "one_count = ?.count(\"|1⟩\")  # Replace ? with correct variable\n"
      ],
      "metadata": {
        "id": "qek1Ur6PWEVA"
      },
      "execution_count": null,
      "outputs": []
    },
    {
      "cell_type": "markdown",
      "source": [
        "## 🔹 Task 2: Visualizing Superposition Measurement\n",
        "\n",
        "## 🔍 What You'll Learn\n",
        "✅ How **repeated quantum measurements** yield **statistical distributions**  \n",
        "✅ Use **bar plots** to display **quantum measurement results**  \n",
        "✅ Understand the **collapse of superposition**  \n",
        "\n",
        "---\n",
        "\n",
        "## ✅ Your Task\n",
        "Modify the following code to correctly **plot measurement results**.\n"
      ],
      "metadata": {
        "id": "WceCnzvpWHlK"
      }
    },
    {
      "cell_type": "code",
      "source": [
        "# Visualization\n",
        "labels = [\"|0⟩\", \"|1⟩\"]\n",
        "counts = [?, ?]  # Replace ? with correct frequency counts\n",
        "\n",
        "plt.figure(figsize=(6, 4))\n",
        "plt.bar(labels, counts, color=['blue', 'red'])\n",
        "plt.xlabel(\"Qubit State\")\n",
        "plt.ylabel(\"Count\")\n",
        "plt.title(\"Superposition Measurement Results\")\n",
        "plt.grid(axis='y', linestyle='--', alpha=0.7)\n",
        "plt.show()\n",
        "\n",
        "print(f\"\\nMeasurement Distribution: |0⟩: {zero_count}, |1⟩: {one_count}\")\n",
        "print(\"Observation: Notice how the states appear with approximately equal frequency, demonstrating quantum superposition and measurement collapse.\")\n"
      ],
      "metadata": {
        "id": "rto5swFlWRty"
      },
      "execution_count": null,
      "outputs": []
    },
    {
      "cell_type": "markdown",
      "source": [
        "## 📌 Expected Output\n",
        "\n",
        "- The **printed counts** should be **approximately** **50% |0⟩** and **50% |1⟩**.  \n",
        "- The **bar plot** should show **two nearly equal-height bars**, representing the **random distribution of measurements**.\n",
        "\n",
        "---\n",
        "\n",
        "## 🎯 Bonus Challenge\n",
        "\n",
        "Modify the function so that:  \n",
        "✅ The qubit **collapses to |0⟩ with 70% probability** and **|1⟩ with 30% probability**.  \n",
        "✅ Allow the function to **take custom probability inputs** instead of assuming **equal superposition**.  \n"
      ],
      "metadata": {
        "id": "zn4D9xxVWVzG"
      }
    },
    {
      "cell_type": "code",
      "source": [
        "# Start Bonus Challenge Here"
      ],
      "metadata": {
        "id": "XzOYrysgWuok"
      },
      "execution_count": null,
      "outputs": []
    },
    {
      "cell_type": "markdown",
      "source": [
        "# **🔹 Activity 4: Heisenberg’s Uncertainty Principle**"
      ],
      "metadata": {
        "id": "biP3XD2TzNG-"
      }
    },
    {
      "cell_type": "markdown",
      "source": [
        "\n",
        "## 📌 Introduction to Heisenberg’s Uncertainty Principle\n",
        "\n",
        "One of the **fundamental principles** of quantum mechanics is the **Heisenberg Uncertainty Principle**, which states that:\n",
        "\n",
        "$$\n",
        "\\Delta x \\cdot \\Delta p \\geq \\frac{\\hbar}{2}\n",
        "$$\n",
        "\n",
        "### Where:\n",
        "$$\n",
        "\\Delta x = \\text{Position uncertainty} \\\\\n",
        "\\Delta p = \\text{Momentum uncertainty} \\\\\n",
        "\\hbar = \\text{Reduced Planck's constant}\n",
        "$$\n",
        "\n",
        "This means that the **more precisely** we know a particle's **position**, the **less precisely** we can know its **momentum**, and vice versa.\n",
        "\n",
        "---\n",
        "\n",
        "## 🎯 Your Task:\n",
        "Implement the **uncertainty relationship mathematically** and **visualize the trade-off**. 🚀\n",
        "\n",
        "---\n",
        "\n",
        "## 🔹 Task 1: Implementing the Heisenberg Uncertainty Relationship\n",
        "\n",
        "## 🔍 What You'll Learn\n",
        "✅ The **mathematical trade-off** between **position precision** and **momentum uncertainty**  \n",
        "✅ How **uncertainty scales** with **precision**  \n",
        "✅ Use **inverse relationships** to model **quantum behavior**  \n",
        "\n",
        "---\n",
        "\n",
        "## ✅ Your Task\n",
        "Modify the function below so that it **correctly implements the uncertainty trade-off**.\n"
      ],
      "metadata": {
        "id": "8J4G5QeqXB7C"
      }
    },
    {
      "cell_type": "code",
      "source": [
        "import numpy as np\n",
        "import matplotlib.pyplot as plt\n",
        "\n",
        "def uncertainty(position_precision):\n",
        "    \"\"\"\n",
        "    Models the uncertainty trade-off between position and momentum.\n",
        "    Parameters:\n",
        "        position_precision (float): The precision of position measurement (Δx).\n",
        "    Returns:\n",
        "        float: The corresponding momentum uncertainty (Δp).\n",
        "    \"\"\"\n",
        "    h_bar = 1  # Reduced Planck’s constant (normalized for simplicity)\n",
        "    return ? / (? * position_precision)  # Replace ? with correct formula\n",
        "\n",
        "# Generate data for visualization\n",
        "position_precisions = np.linspace(?, ?, ?)  # Replace ? with appropriate range\n",
        "momentum_uncertainties = [uncertainty(p) for p in position_precisions]\n"
      ],
      "metadata": {
        "id": "ZjDbIcDaYH2s"
      },
      "execution_count": null,
      "outputs": []
    },
    {
      "cell_type": "markdown",
      "source": [
        "## 🔹 Task 2: Displaying Uncertainty Relationship\n",
        "\n",
        "## 🔍 What You'll Learn\n",
        "✅ How to **interpret trade-offs** in **quantum mechanics**  \n",
        "✅ Use **formatted printing** to display results  \n",
        "✅ Recognize the **inverse proportionality** between **Δ x** and **Δ p**  \n",
        "\n",
        "---\n",
        "\n",
        "## ✅ Your Task\n",
        "Modify the **print statements** below to correctly **display position precision and momentum uncertainty**.\n"
      ],
      "metadata": {
        "id": "5n5zec5xYXK6"
      }
    },
    {
      "cell_type": "code",
      "source": [
        "# Display results\n",
        "print(\"Position Precision | Momentum Uncertainty\")\n",
        "for p in [?, ?, ?, ?, ?]:  # Replace ? with correct values\n",
        "    print(f\"{p}                   | {uncertainty(p):.3f}\")\n"
      ],
      "metadata": {
        "id": "IvSnUG13YNDW"
      },
      "execution_count": null,
      "outputs": []
    },
    {
      "cell_type": "markdown",
      "source": [
        "## 🔹 Task 3: Visualizing the Heisenberg Uncertainty Trade-Off\n",
        "\n",
        "## 🔍 What You'll Learn\n",
        "✅ How **position and momentum uncertainty** behave **graphically**  \n",
        "✅ Use **line plots** to visualize relationships  \n",
        "✅ Understand how **uncertainty increases** as **precision improves**  \n",
        "\n",
        "---\n",
        "\n",
        "## ✅ Your Task\n",
        "Modify the following **code** to correctly **plot the uncertainty relationship**.\n"
      ],
      "metadata": {
        "id": "fJrSA_RTYddg"
      }
    },
    {
      "cell_type": "code",
      "source": [
        "# Visualization\n",
        "plt.figure(figsize=(8, 5))\n",
        "plt.plot(?, ?, label='Uncertainty Trade-off', color='purple')  # Replace ? with correct variables\n",
        "plt.xlabel(\"Position Precision (Δx)\")\n",
        "plt.ylabel(\"Momentum Uncertainty (Δp)\")\n",
        "plt.title(\"Heisenberg’s Uncertainty Principle\")\n",
        "plt.legend()\n",
        "plt.grid(True)\n",
        "plt.show()\n"
      ],
      "metadata": {
        "id": "JT7OG_IRYm50"
      },
      "execution_count": null,
      "outputs": []
    },
    {
      "cell_type": "markdown",
      "source": [
        "## 📌 Expected Output\n",
        "\n",
        "- The **printed table** should show that as **position precision Δ x increases**, **momentum uncertainty Δ p increases**.\n",
        "- The **graph** should display an **inverse relationship**, showing that **better position precision leads to greater momentum uncertainty**.\n",
        "\n",
        "---\n",
        "\n",
        "## 🎯 Bonus Challenge\n",
        "\n",
        "Modify the function so that:  \n",
        "✅ It uses **Planck's actual value** for **ℏ** instead of setting it to **1**.  \n",
        "✅ Allow the function to **simulate different quantum particles** by changing their **mass**.  \n"
      ],
      "metadata": {
        "id": "r9X2NFPiYp58"
      }
    },
    {
      "cell_type": "code",
      "source": [
        "# Start Bonus Challenge Here"
      ],
      "metadata": {
        "id": "r-OkJI22Y06n"
      },
      "execution_count": null,
      "outputs": []
    },
    {
      "cell_type": "markdown",
      "source": [
        "# **🔹 Activity 5: Schrödinger’s Cat – Randomized State**"
      ],
      "metadata": {
        "id": "657KJWrJxyii"
      }
    },
    {
      "cell_type": "markdown",
      "source": [
        "\n",
        "## 📌 Introduction to Schrödinger’s Cat\n",
        "\n",
        "**Schrödinger’s Cat** is a **famous thought experiment** in quantum mechanics that illustrates **superposition and measurement collapse**.\n",
        "\n",
        "- Before **observation**, the cat is in a **superposition** of being both **\"Alive\"** and **\"Dead\"** at the same time.\n",
        "- When **measured**, the **wave function collapses** into one of two **classical states**:\n",
        "  - **\"Alive\"**\n",
        "  - **\"Dead\"**\n",
        "\n",
        "<img src=\"https://drive.google.com/uc?id=1rVsC1KMxKKyn8jbnyf1MT75TKCETPZYW\" width=\"390\">\n",
        "\n",
        "---\n",
        "\n",
        "## 🎯 Your Task:\n",
        "Simulate the **cat’s quantum state** and **visualize the probability** of each outcome. 🚀\n",
        "\n",
        "---\n",
        "\n",
        "## 🔹 Task 1: Implementing Schrödinger’s Cat State Selection\n",
        "\n",
        "## 🔍 What You'll Learn\n",
        "✅ How **superposition collapses** upon **measurement**  \n",
        "✅ Use **random selection** to model a **quantum state collapse**  \n",
        "✅ Interpret **probabilities** from **repeated measurements**  \n",
        "\n",
        "---\n",
        "\n",
        "## ✅ Your Task\n",
        "Modify the function below so that the **cat is equally likely** to be measured as **\"Alive\"** or **\"Dead\"**.\n"
      ],
      "metadata": {
        "id": "_Ass7YOjY7Y5"
      }
    },
    {
      "cell_type": "code",
      "source": [
        "import random\n",
        "import matplotlib.pyplot as plt\n",
        "\n",
        "def schrodinger_cat():\n",
        "    \"\"\"\n",
        "    Simulates Schrödinger’s cat experiment by randomly selecting between \"Alive\" and \"Dead\".\n",
        "    \"\"\"\n",
        "    return random.choice([?, ?])  # Replace ? with correct quantum states\n",
        "\n",
        "# Simulate multiple measurements\n",
        "measurements = [? for _ in range(1000)]  # Replace ? with correct function call\n",
        "\n",
        "# Count occurrences of \"Alive\" and \"Dead\"\n",
        "alive_count = ?.count(\"Alive\")  # Replace ? with correct variable\n",
        "dead_count = ?.count(\"Dead\")  # Replace ? with correct variable\n"
      ],
      "metadata": {
        "id": "bvbYh_j7Y6qj"
      },
      "execution_count": null,
      "outputs": []
    },
    {
      "cell_type": "markdown",
      "source": [
        "## 🔹 Task 2: Visualizing Measurement Collapse\n",
        "\n",
        "## 🔍 What You'll Learn\n",
        "✅ How **quantum state measurement** collapses **probability distributions**  \n",
        "✅ Use **bar plots** to visualize **measurement results**  \n",
        "✅ Interpret **quantum randomness**  \n",
        "\n",
        "---\n",
        "\n",
        "## ✅ Your Task\n",
        "Modify the following **code** to correctly **plot the measured state distribution**.\n"
      ],
      "metadata": {
        "id": "J-gs6i0KZUyv"
      }
    },
    {
      "cell_type": "code",
      "source": [
        "# Visualization\n",
        "labels = [\"Alive\", \"Dead\"]\n",
        "counts = [?, ?]  # Replace ? with correct frequency counts\n",
        "\n",
        "plt.figure(figsize=(6, 4))\n",
        "plt.bar(labels, counts, color=['green', 'black'])\n",
        "plt.xlabel(\"Cat State\")\n",
        "plt.ylabel(\"Count\")\n",
        "plt.title(\"Schrödinger’s Cat Measurement Results\")\n",
        "plt.grid(axis='y', linestyle='--', alpha=0.7)\n",
        "plt.show()\n",
        "\n",
        "print(f\"\\nMeasurement Distribution: Alive: {alive_count}, Dead: {dead_count}\")\n",
        "print(\"Observation: The cat’s state collapses into either 'Alive' or 'Dead' upon measurement, illustrating quantum superposition and collapse.\")\n"
      ],
      "metadata": {
        "id": "GxaCayugZgIg"
      },
      "execution_count": null,
      "outputs": []
    },
    {
      "cell_type": "markdown",
      "source": [
        "## 📌 Expected Output\n",
        "\n",
        "- The **printed counts** should be approximately **50% \"Alive\"** and **50% \"Dead\"**.  \n",
        "- The **bar plot** should show **two nearly equal-height bars**, representing the **random nature** of quantum collapse.  \n",
        "\n",
        "---\n",
        "\n",
        "## 🎯 Bonus Challenge\n",
        "\n",
        "Modify the function so that:  \n",
        "✅ The cat is **\"Alive\" with 70% probability** and **\"Dead\" with 30% probability**.  \n",
        "✅ Allow the function to **accept user-defined probabilities** instead of assuming **equal superposition**.  \n"
      ],
      "metadata": {
        "id": "ZlgOAywJZjew"
      }
    },
    {
      "cell_type": "code",
      "source": [
        "# Start Bonus Challenge Here"
      ],
      "metadata": {
        "id": "dyEeIG_UZuHd"
      },
      "execution_count": null,
      "outputs": []
    },
    {
      "cell_type": "markdown",
      "source": [
        "# **🔹 Activity 6: Quantum Entanglement**"
      ],
      "metadata": {
        "id": "BvODgKnRzU6t"
      }
    },
    {
      "cell_type": "markdown",
      "source": [
        "\n",
        "## 📌 Introduction to Quantum Entanglement\n",
        "\n",
        "**Quantum entanglement** is a phenomenon where **two qubits become correlated**, meaning that **measuring one instantly determines the state of the other**, even if they are separated by **large distances**.\n",
        "\n",
        "### 🔬 Example:\n",
        "- If we measure **qubit A** as **|0⟩**, then **qubit B** must also be **|0⟩**.\n",
        "- If we measure **qubit A** as **|1⟩**, then **qubit B** must also be **|1⟩**.\n",
        "\n",
        "---\n",
        "\n",
        "## 🎯 Your Task:\n",
        "Simulate **entangled qubits**, where **measuring one instantly determines** the state of the **other**. 🚀\n",
        "\n",
        "---\n",
        "\n",
        "## 🔹 Task 1: Implementing Entangled Qubit Measurements\n",
        "\n",
        "## 🔍 What You'll Learn\n",
        "✅ How **entanglement ensures perfect correlation**  \n",
        "✅ Implement **quantum state collapse** for **entangled qubits**  \n",
        "✅ Interpret **entangled measurement results**  \n",
        "\n",
        "---\n",
        "\n",
        "## ✅ Your Task\n",
        "Modify the function below so that the **two entangled qubits always collapse into a correlated state**.\n"
      ],
      "metadata": {
        "id": "JNureApDZx-5"
      }
    },
    {
      "cell_type": "code",
      "source": [
        "import random\n",
        "import matplotlib.pyplot as plt\n",
        "\n",
        "def entangle():\n",
        "    \"\"\"\n",
        "    Simulates two entangled qubits collapsing to a correlated state upon measurement.\n",
        "    \"\"\"\n",
        "    return random.choice([?, ?])  # Replace ? with correct entangled states\n",
        "\n",
        "# Simulate multiple entanglement measurements\n",
        "measurements = [? for _ in range(1000)]  # Replace ? with correct function call\n",
        "\n",
        "# Count occurrences of |00⟩ and |11⟩\n",
        "zero_zero_count = ?.count(\"|00⟩\")  # Replace ? with correct variable\n",
        "one_one_count = ?.count(\"|11⟩\")  # Replace ? with correct variable\n"
      ],
      "metadata": {
        "id": "Jmoo_UFwZxmM"
      },
      "execution_count": null,
      "outputs": []
    },
    {
      "cell_type": "markdown",
      "source": [
        "## 🔹 Task 2: Visualizing Quantum Entanglement\n",
        "\n",
        "## 🔍 What You'll Learn\n",
        "✅ How **entanglement ensures consistent correlations**  \n",
        "✅ Use **bar plots** to visualize **measurement results**  \n",
        "✅ Recognize that **|01⟩ and |10⟩ never appear** due to **perfect correlation**  \n",
        "\n",
        "---\n",
        "\n",
        "## ✅ Your Task\n",
        "Modify the following **code** to correctly **plot the entangled measurement results**.\n"
      ],
      "metadata": {
        "id": "IluI5k2PaIVQ"
      }
    },
    {
      "cell_type": "code",
      "source": [
        "# Visualization\n",
        "labels = [\"|00⟩\", \"|11⟩\"]\n",
        "counts = [?, ?]  # Replace ? with correct frequency counts\n",
        "\n",
        "plt.figure(figsize=(6, 4))\n",
        "plt.bar(labels, counts, color=['blue', 'red'])\n",
        "plt.xlabel(\"Entangled Qubit State\")\n",
        "plt.ylabel(\"Count\")\n",
        "plt.title(\"Quantum Entanglement Measurement Results\")\n",
        "plt.grid(axis='y', linestyle='--', alpha=0.7)\n",
        "plt.show()\n",
        "\n",
        "print(f\"\\nMeasurement Distribution: |00⟩: {zero_zero_count}, |11⟩: {one_one_count}\")\n",
        "print(\"Observation: Notice how the measurements always result in correlated states, demonstrating the phenomenon of quantum entanglement.\")\n"
      ],
      "metadata": {
        "id": "wz8Tu1PBaPXc"
      },
      "execution_count": null,
      "outputs": []
    },
    {
      "cell_type": "markdown",
      "source": [
        "## 📌 Expected Output\n",
        "\n",
        "- The **printed counts** should show only **|00⟩** and **|11⟩**, never **|01⟩** or **|10⟩**.  \n",
        "- The **bar plot** should display **two equal-height bars**, showing that both **entangled outcomes are equally likely**.  \n",
        "\n",
        "<img src=\"https://drive.google.com/uc?id=1MhTr8nVDwA2nwR2uKUpDzYvTuMdCQSCW\" width=\"390\">\n",
        "\n",
        "---\n",
        "\n",
        "## 🎯 Bonus Challenge\n",
        "\n",
        "Modify the function so that:  \n",
        "✅ The **entanglement sometimes produces imperfect correlation** (~5% chance of **|01⟩** or **|10⟩**).  \n",
        "✅ Allow the function to **simulate Bell inequality violations** by adding **measurement angles**.  \n"
      ],
      "metadata": {
        "id": "-Ki6xsDaaS-u"
      }
    },
    {
      "cell_type": "code",
      "source": [
        "# Start Bonus Challenge Here"
      ],
      "metadata": {
        "id": "a5GD2Kv6agTb"
      },
      "execution_count": null,
      "outputs": []
    },
    {
      "cell_type": "markdown",
      "source": [
        "# **🔹 Activity 7: Quantum Tunneling Probability**"
      ],
      "metadata": {
        "id": "TLR-QyqtyGP1"
      }
    },
    {
      "cell_type": "markdown",
      "source": [
        "\n",
        "## 📌 Introduction to Quantum Tunneling\n",
        "\n",
        "In **classical physics**, a **particle cannot pass through a barrier** if its **energy** is **lower than the barrier height**.\n",
        "\n",
        "However, in **quantum mechanics**, a **particle has a nonzero probability** of **\"tunneling\" through a barrier**, even if it lacks **sufficient classical energy**.\n",
        "\n",
        "This is described by an **exponential probability function**:\n",
        "\n",
        "$$\n",
        "P = e^{-2(b - E)}\n",
        "$$\n",
        "\n",
        "### Where:\n",
        "$$\n",
        "P = \\text{Probability of tunneling} \\\\\n",
        "b = \\text{Barrier height} \\\\\n",
        "E = \\text{Particle’s energy}\n",
        "$$\n",
        "\n",
        "---\n",
        "\n",
        "## 🎯 Your Task:\n",
        "Implement a function that **calculates the probability** of a **particle tunneling through a barrier**. 🚀\n",
        "\n",
        "---\n",
        "\n",
        "## 🔹 Task 1: Implementing the Quantum Tunneling Function\n",
        "\n",
        "## 🔍 What You'll Learn\n",
        "✅ How **probabilities decay exponentially** in **quantum tunneling**  \n",
        "✅ Implement **conditional logic** for different **energy cases**  \n",
        "✅ Use **exponential functions** to model **tunneling behavior**  \n",
        "\n",
        "---\n",
        "\n",
        "## ✅ Your Task\n",
        "Modify the function below to correctly **calculate tunneling probability** based on **energy and barrier height**."
      ],
      "metadata": {
        "id": "f4dKdEbwadNF"
      }
    },
    {
      "cell_type": "code",
      "source": [
        "import numpy as np\n",
        "import matplotlib.pyplot as plt\n",
        "\n",
        "def tunneling_probability(energy, barrier):\n",
        "    \"\"\"\n",
        "    Computes the probability of quantum tunneling based on energy and barrier height.\n",
        "    \"\"\"\n",
        "    if energy >= ?:  # Replace ? with correct condition for full transmission\n",
        "        return ?  # Replace ? with correct probability for high energy\n",
        "\n",
        "    else:\n",
        "        return np.exp(? * (barrier - energy))  # Replace ? with correct exponential decay formula\n",
        "\n",
        "# Test different energy levels\n",
        "print(\"Energy | Tunneling Probability\")\n",
        "energy_levels = np.linspace(?, ?, ?)  # Replace ? with correct range\n",
        "tunneling_probs = [tunneling_probability(e, 3) for e in energy_levels]\n",
        "\n",
        "for e in range(?, ?):  # Replace ? with correct loop range\n",
        "    print(f\"{e}      | {tunneling_probability(e, 3):.4f}\")\n"
      ],
      "metadata": {
        "id": "6K4dKG6ta6jd"
      },
      "execution_count": null,
      "outputs": []
    },
    {
      "cell_type": "markdown",
      "source": [
        "## 🔹 Task 2: Visualizing Quantum Tunneling\n",
        "\n",
        "## 🔍 What You'll Learn\n",
        "✅ How **energy affects tunneling probability**  \n",
        "✅ Use **line plots** to visualize **exponential decay**  \n",
        "✅ Interpret **barrier effects** on **quantum motion**  \n",
        "\n",
        "---\n",
        "\n",
        "## ✅ Your Task\n",
        "Modify the following **code** to correctly **plot tunneling probability** against **particle energy**.\n"
      ],
      "metadata": {
        "id": "rgti3_Zoa-2W"
      }
    },
    {
      "cell_type": "code",
      "source": [
        "# Visualization\n",
        "plt.figure(figsize=(8, 5))\n",
        "plt.plot(?, ?, label='Tunneling Probability', color='purple')  # Replace ? with correct variables\n",
        "plt.axvline(x=?, linestyle='dashed', color='red', label='Barrier Height')  # Replace ? with barrier height\n",
        "plt.xlabel(\"Particle Energy\")\n",
        "plt.ylabel(\"Tunneling Probability\")\n",
        "plt.title(\"Quantum Tunneling Probability vs. Energy\")\n",
        "plt.legend()\n",
        "plt.grid(True)\n",
        "plt.show()\n"
      ],
      "metadata": {
        "id": "SBY7cQGjbI6N"
      },
      "execution_count": null,
      "outputs": []
    },
    {
      "cell_type": "markdown",
      "source": [
        "## 📌 Expected Output\n",
        "\n",
        "- The **printed table** should show that for **energy < barrier**, probability **decreases exponentially**.  \n",
        "- The **graph** should display:  \n",
        "  - A **steep drop in probability** for **energy levels below the barrier**.  \n",
        "  - **Full transmission** (\\( P = 1 \\)) for **energy ≥ barrier**.  \n",
        "\n",
        "---\n",
        "\n",
        "## 🎯 Bonus Challenge\n",
        "\n",
        "Modify the function so that:  \n",
        "✅ It allows **customizable decay rates** for **different barrier materials**.  \n",
        "✅ Simulate a **double barrier tunneling effect**.  \n"
      ],
      "metadata": {
        "id": "KcewbNBnbTB-"
      }
    },
    {
      "cell_type": "code",
      "source": [
        "# Start Bonus Challenge Here"
      ],
      "metadata": {
        "id": "GAgVHmtabhQT"
      },
      "execution_count": null,
      "outputs": []
    },
    {
      "cell_type": "markdown",
      "source": [
        "<img src=\"https://drive.google.com/uc?id=1s73B8hB1XeXsC17D9Gd9j12zK0O6TDoY\" width=\"590\">"
      ],
      "metadata": {
        "id": "B4UJS9foOOYl"
      }
    },
    {
      "cell_type": "markdown",
      "source": [
        "# **🔹 Activity 8: Quantum Interference – Simulating the Double-Slit Experiment**"
      ],
      "metadata": {
        "id": "vWdLTWAmyR5q"
      }
    },
    {
      "cell_type": "markdown",
      "source": [
        "\n",
        "## 📌 Introduction to Quantum Interference\n",
        "\n",
        "In **quantum mechanics**, particles such as **electrons and photons** exhibit **wave-like behavior**, leading to an **interference pattern** when passing through **two slits**.\n",
        "\n",
        "<img src=\"https://drive.google.com/uc?id=1Iuw8mFZfYXs-epGaKf1i4NsebisWSAsY\" width=\"590\">\n",
        "\n",
        "### 🌊 Wave Interference:\n",
        "- **Bright fringes** (**constructive interference**) occur when **waves reinforce** each other.  \n",
        "- **Dark fringes** (**destructive interference**) occur when **waves cancel** each other out.  \n",
        "\n",
        "---\n",
        "\n",
        "## 🎯 Your Task:\n",
        "Generate and **visualize an interference pattern** using a **wave function**. 🚀  \n",
        "\n",
        "---\n",
        "\n",
        "## 🔹 Task 1: Implementing the Quantum Interference Pattern\n",
        "\n",
        "## 🔍 What You'll Learn\n",
        "✅ How **wave functions** create **interference patterns**  \n",
        "✅ Implement **sinusoidal oscillations** with a **Gaussian envelope**  \n",
        "✅ Interpret **quantum behavior** in the **double-slit experiment**  \n",
        "\n",
        "---\n",
        "\n",
        "## ✅ Your Task\n",
        "Modify the function below to **correctly simulate the interference pattern**.\n"
      ],
      "metadata": {
        "id": "HSkwbDz7boUh"
      }
    },
    {
      "cell_type": "code",
      "source": [
        "import numpy as np\n",
        "import matplotlib.pyplot as plt\n",
        "\n",
        "# Define the range of positions\n",
        "x = np.linspace(-5, 5, 400)\n",
        "\n",
        "# TODO: Implement the correct interference pattern function\n",
        "interference_pattern = (np.cos(? * x) ** ?) * np.exp(-x**?)  # Replace ? with correct values\n",
        "\n",
        "# Visualization\n",
        "plt.figure(figsize=(8, 5))\n",
        "plt.plot(?, ?, color='blue', label=\"Interference Pattern\")  # Replace ? with correct variables\n",
        "plt.xlabel(\"Position\")\n",
        "plt.ylabel(\"Intensity\")\n",
        "plt.title(\"Quantum Interference Pattern (Double-Slit)\")\n",
        "plt.legend()\n",
        "plt.grid(True)\n",
        "plt.show()\n"
      ],
      "metadata": {
        "id": "xWsLsLZKb7Xr"
      },
      "execution_count": null,
      "outputs": []
    },
    {
      "cell_type": "markdown",
      "source": [
        "## 🔹 Task 2: Understanding the Double-Slit Interference\n",
        "\n",
        "## 🔍 What You'll Learn\n",
        "✅ How **interference fringes** are formed  \n",
        "✅ Interpret the role of a **Gaussian envelope** in **wave behavior**  \n",
        "✅ Recognize **constructive and destructive interference**  \n",
        "\n",
        "---\n",
        "\n",
        "## ✅ Your Task\n",
        "Modify the equation to:  \n",
        "- **Increase the number of fringes** (by adjusting **wave frequency**).  \n",
        "- **Change the spread of the envelope** (to simulate **different slit widths**).  \n",
        "\n",
        "---\n",
        "\n",
        "## 📌 Expected Output\n",
        "\n",
        "- The plot should show **oscillating wave-like behavior** with **peaks and troughs**.  \n",
        "- The **intensity should fade towards the edges**, forming a **Gaussian envelope**.  \n",
        "\n",
        "---\n",
        "\n",
        "## 🎯 Bonus Challenge\n",
        "\n",
        "Modify the function to:  \n",
        "✅ **Include phase shifts** to simulate **asymmetric slit conditions**.  \n",
        "✅ **Add a second wave function** to simulate **interference from different slit separations**.  \n"
      ],
      "metadata": {
        "id": "Gy06nkwhb8sp"
      }
    },
    {
      "cell_type": "code",
      "source": [
        "# Start Bonus Challenge Here"
      ],
      "metadata": {
        "id": "sD1PyH9ocALY"
      },
      "execution_count": null,
      "outputs": []
    },
    {
      "cell_type": "markdown",
      "source": [
        "# **🔹 Activity 9: Quantum Coherence – Understanding Decoherence**"
      ],
      "metadata": {
        "id": "_XKI4QrSyg5i"
      }
    },
    {
      "cell_type": "markdown",
      "source": [
        "\n",
        "## 📌 Introduction to Quantum Coherence\n",
        "\n",
        "In **quantum mechanics**, a **quantum system** maintains **coherence** when it remains in a **superposition of states**.\n",
        "\n",
        "However, due to **interactions with the environment**, a quantum system undergoes **decoherence**, gradually **losing its quantum properties** and behaving **more classically**.\n",
        "\n",
        "The rate of **decoherence** depends on **environmental factors** and is often modeled as **exponential decay**:\n",
        "\n",
        "$$\n",
        "C(t) = e^{-\\gamma t}\n",
        "$$\n",
        "\n",
        "### Where:\n",
        "$$\n",
        "C(t) = \\text{Coherence at time } t \\\\\n",
        "\\gamma = \\text{Decoherence rate} \\\\\n",
        "t = \\text{Time}\n",
        "$$\n",
        "\n",
        "---\n",
        "\n",
        "## 🎯 Your Task:\n",
        "Model and **visualize how quantum coherence degrades over time**. 🚀\n",
        "\n",
        "---\n",
        "\n",
        "## 🔹 Task 1: Implementing the Quantum Decoherence Function\n",
        "\n",
        "## 🔍 What You'll Learn\n",
        "✅ How **quantum systems lose coherence** over time  \n",
        "✅ Implement **exponential decay** to simulate **decoherence**  \n",
        "✅ Understand **environmental interactions** on **quantum states**  \n",
        "\n",
        "---\n",
        "\n",
        "## ✅ Your Task\n",
        "Modify the function below to correctly **simulate the loss of coherence over time**.\n"
      ],
      "metadata": {
        "id": "bHGu9cNicDaX"
      }
    },
    {
      "cell_type": "code",
      "source": [
        "import numpy as np\n",
        "import matplotlib.pyplot as plt\n",
        "\n",
        "def decoherence(time, rate=1):\n",
        "    \"\"\"\n",
        "    Simulates the loss of quantum coherence over time.\n",
        "    Parameters:\n",
        "        time (float): Time variable\n",
        "        rate (float): Decoherence rate (default is 1)\n",
        "    Returns:\n",
        "        float: Coherence value at a given time\n",
        "    \"\"\"\n",
        "    return np.exp(? * ?)  # Replace ? with the correct exponential decay formula\n",
        "\n",
        "# Simulating coherence over time\n",
        "times = np.linspace(?, ?, ?)  # Replace ? with correct time range\n",
        "coherence_values = [decoherence(t) for t in times]\n"
      ],
      "metadata": {
        "id": "MGGaKGhQcQii"
      },
      "execution_count": null,
      "outputs": []
    },
    {
      "cell_type": "markdown",
      "source": [
        "## 🔹 Task 2: Visualizing Quantum Decoherence\n",
        "\n",
        "## 🔍 What You'll Learn\n",
        "✅ How **quantum coherence decreases** over time  \n",
        "✅ Use **line plots** to visualize **decay curves**  \n",
        "✅ Recognize **different decoherence rates**  \n",
        "\n",
        "---\n",
        "\n",
        "## ✅ Your Task\n",
        "Modify the following **code** to correctly **plot coherence decay** over time.\n"
      ],
      "metadata": {
        "id": "lh8LpcrBcT5y"
      }
    },
    {
      "cell_type": "code",
      "source": [
        "# Visualization\n",
        "plt.figure(figsize=(8, 5))\n",
        "plt.plot(?, ?, color='purple', label='Coherence Decay')  # Replace ? with correct variables\n",
        "plt.xlabel(\"Time\")\n",
        "plt.ylabel(\"Coherence\")\n",
        "plt.title(\"Quantum Decoherence Over Time\")\n",
        "plt.legend()\n",
        "plt.grid(True)\n",
        "plt.show()\n"
      ],
      "metadata": {
        "id": "Siru10olcYU1"
      },
      "execution_count": null,
      "outputs": []
    },
    {
      "cell_type": "markdown",
      "source": [
        "## 📌 Expected Output\n",
        "\n",
        "- The **graph** should show a **smoothly decreasing curve**, demonstrating how **coherence is lost over time**.  \n",
        "- The **higher the decoherence rate**, the **faster the system loses coherence**.  \n",
        "\n",
        "---\n",
        "\n",
        "## 🎯 Bonus Challenge\n",
        "\n",
        "Modify the function so that:  \n",
        "✅ The **decoherence rate** is **user-defined**, allowing customization.  \n",
        "✅ Implement **different decoherence models**, such as **Gaussian decay** instead of **exponential decay**.  \n"
      ],
      "metadata": {
        "id": "CH40IMLKcejG"
      }
    },
    {
      "cell_type": "code",
      "source": [
        "# Start Bonus Challenge Here"
      ],
      "metadata": {
        "id": "NRSCqsr-cwLb"
      },
      "execution_count": null,
      "outputs": []
    },
    {
      "cell_type": "markdown",
      "source": [
        "# **🔹 Activity 10: Quantum Teleportation – Classical Bit Transmission**"
      ],
      "metadata": {
        "id": "xaO-0O8Uym5w"
      }
    },
    {
      "cell_type": "markdown",
      "source": [
        "## 📌 Introduction to Quantum Teleportation\n",
        "\n",
        "<img src=\"https://drive.google.com/uc?id=1mPe0wSZY8uT8pMt8r7k7PhGL2z6zQ5y1\" width=\"490\">\n",
        "\n",
        "**Quantum teleportation** is a process that allows transmitting a **qubit’s state** using **classical communication** and **quantum entanglement**.\n",
        "\n",
        "### 🔬 Key Differences:\n",
        "- In **classical communication**, bits (**0 or 1**) can be transmitted **perfectly** without errors.  \n",
        "- In **quantum teleportation**, we need **pre-shared entanglement** to transmit a **quantum state** without violating the **no-cloning theorem**.  \n",
        "\n",
        "---\n",
        "\n",
        "## 🎯 Your Task:\n",
        "Simulate the **classical part** of the teleportation process by **perfectly transmitting a classical bit**. 🚀\n",
        "\n",
        "---\n",
        "\n",
        "## 🔹 Task 1: Implementing Classical Bit Transmission\n",
        "\n",
        "## 🔍 What You'll Learn\n",
        "✅ How **classical communication** transmits **bits without loss**  \n",
        "✅ The difference between **classical vs. quantum teleportation**  \n",
        "✅ Implementing a **simple transmission function**  \n",
        "\n",
        "---\n",
        "\n",
        "## ✅ Your Task\n",
        "Modify the function below so that it **correctly transmits a classical bit without errors**.\n"
      ],
      "metadata": {
        "id": "ieGhCUQHczZX"
      }
    },
    {
      "cell_type": "code",
      "source": [
        "import random\n",
        "\n",
        "def classical_teleportation(bit):\n",
        "    \"\"\"\n",
        "    Simulates the classical transmission of a bit, representing the classical part of quantum teleportation.\n",
        "    \"\"\"\n",
        "    return ?  # Replace ? with correct transmission logic\n",
        "\n",
        "# Simulating classical teleportation\n",
        "original_bits = [random.choice([?, ?]) for _ in range(10)]  # Replace ? with valid bit values\n",
        "teleported_bits = [classical_teleportation(b) for b in original_bits]\n",
        "\n",
        "# Display results\n",
        "print(\"Original Bits:   \", original_bits)\n",
        "print(\"Teleported Bits: \", teleported_bits)\n"
      ],
      "metadata": {
        "id": "u2nkHUWCczH-"
      },
      "execution_count": null,
      "outputs": []
    },
    {
      "cell_type": "markdown",
      "source": [
        "## 🔹 Task 2: Understanding Quantum Teleportation\n",
        "\n",
        "## 🔍 What You'll Learn\n",
        "✅ How **classical transmission** differs from **quantum teleportation**  \n",
        "✅ Recognize that **quantum states cannot be perfectly cloned**  \n",
        "✅ Discuss the **role of entanglement** in **quantum teleportation**  \n",
        "\n",
        "---\n",
        "<img src=\"https://drive.google.com/uc?id=1F4LHwHxcUQD0eN0-Z8GTpSXCpRRSYqiC\" width=\"490\">\n",
        "\n",
        "## ✅ Your Task\n",
        "Modify the **print statement** to include an **explanation** of why **classical bits can be transmitted perfectly**, but **quantum states require entanglement** for **teleportation**.\n"
      ],
      "metadata": {
        "id": "jikGM-72c7WS"
      }
    },
    {
      "cell_type": "code",
      "source": [
        "print(\"\\nObservation: Classical bits can be transmitted perfectly, but true quantum teleportation requires entanglement and quantum measurement.\")\n"
      ],
      "metadata": {
        "id": "emV7AYuOdGn9"
      },
      "execution_count": null,
      "outputs": []
    },
    {
      "cell_type": "markdown",
      "source": [
        "## 📌 Expected Output\n",
        "\n",
        "- The **printed output** should show that the **original and teleported bits are identical**.  \n",
        "- The **conceptual explanation** should emphasize the **difference between classical and quantum teleportation**.  \n",
        "\n",
        "---\n",
        "\n",
        "## 🎯 Bonus Challenge\n",
        "\n",
        "Modify the function so that:  \n",
        "✅ It introduces **random noise**, simulating **imperfect classical transmission**.  \n",
        "✅ Implement a **quantum-style encoding**, such as **Bell-state encoding**, for future **quantum teleportation steps**.  \n"
      ],
      "metadata": {
        "id": "eVuqfnmhdSKy"
      }
    },
    {
      "cell_type": "code",
      "source": [
        "# Start Bonus Challenge Here"
      ],
      "metadata": {
        "id": "ii22-jbkdX2m"
      },
      "execution_count": null,
      "outputs": []
    },
    {
      "cell_type": "markdown",
      "source": [
        "# **🔹 Activity 11: Quantum Encryption – One-Time Pad**"
      ],
      "metadata": {
        "id": "ICJRUj3MyyWu"
      }
    },
    {
      "cell_type": "markdown",
      "source": [
        "\n",
        "## 📌 Introduction to Quantum Encryption – One-Time Pad\n",
        "\n",
        "The **one-time pad (OTP)** is a **theoretically unbreakable encryption method**, provided that:\n",
        "\n",
        "✅ The **encryption key** is **truly random**  \n",
        "✅ The **key** is **as long as the message**  \n",
        "✅ The **key** is **used only once**  \n",
        "\n",
        "**Quantum communication methods**, such as **Quantum Key Distribution (QKD)**, ensure the **secrecy of this key** by leveraging **quantum mechanics**.\n",
        "\n",
        "---\n",
        "\n",
        "## 🎯 Your Task:\n",
        "Implement a **one-time pad encryption system** to securely **encrypt and decrypt messages**. 🚀\n",
        "\n",
        "---\n",
        "\n",
        "## 🔹 Task 1: Implementing One-Time Pad Encryption\n",
        "\n",
        "## 🔍 What You'll Learn\n",
        "✅ How **XOR encryption** works in **one-time pad cryptography**  \n",
        "✅ Generate **truly random keys** for **secure encryption**  \n",
        "✅ Understand **quantum-safe encryption techniques**  \n",
        "\n",
        "---\n",
        "\n",
        "## ✅ Your Task\n",
        "Modify the function below to correctly **encrypt a message** using a **one-time pad**.\n"
      ],
      "metadata": {
        "id": "CRxkMqIIdcla"
      }
    },
    {
      "cell_type": "code",
      "source": [
        "import random\n",
        "\n",
        "def one_time_pad_encrypt(message):\n",
        "    \"\"\"\n",
        "    Encrypts a message using a random one-time pad.\n",
        "    \"\"\"\n",
        "    key = [random.randint(?, ?) for _ in range(len(message))]  # Replace ? with correct key range\n",
        "    encrypted = [ord(m) ? k for m, k in zip(message, key)]  # Replace ? with correct encryption operation\n",
        "    return key, encrypted\n"
      ],
      "metadata": {
        "id": "JeLNuORddoMr"
      },
      "execution_count": null,
      "outputs": []
    },
    {
      "cell_type": "markdown",
      "source": [
        "## 🔹 Task 2: Implementing One-Time Pad Decryption\n",
        "\n",
        "## 🔍 What You'll Learn\n",
        "✅ How **XOR decryption** reverses **OTP encryption**  \n",
        "✅ Ensure the **same key** correctly **decrypts the message**  \n",
        "✅ Recognize the **importance of key secrecy** in **OTP encryption**  \n",
        "\n",
        "---\n",
        "\n",
        "## ✅ Your Task\n",
        "Modify the function below to correctly **decrypt a one-time pad encrypted message**.\n"
      ],
      "metadata": {
        "id": "0q6SDviZdrlV"
      }
    },
    {
      "cell_type": "code",
      "source": [
        "def one_time_pad_decrypt(encrypted, key):\n",
        "    \"\"\"\n",
        "    Decrypts a message using the one-time pad key.\n",
        "    \"\"\"\n",
        "    decrypted = ''.join(chr(e ? k) for e, k in zip(encrypted, key))  # Replace ? with correct decryption operation\n",
        "    return decrypted\n"
      ],
      "metadata": {
        "id": "jZbMOt4Kdz8j"
      },
      "execution_count": null,
      "outputs": []
    },
    {
      "cell_type": "markdown",
      "source": [
        "## 🔹 Task 3: Testing the Encryption and Decryption\n",
        "\n",
        "## 🔍 What You'll Learn\n",
        "✅ How **message secrecy** is maintained using **OTP**  \n",
        "✅ Ensure that **decryption correctly reverses encryption**  \n",
        "✅ Visualize the **key, encrypted message, and decrypted message**  \n",
        "\n",
        "---\n",
        "\n",
        "## ✅ Your Task\n",
        "Modify the following **code** to correctly **test the encryption and decryption functions**.\n"
      ],
      "metadata": {
        "id": "8qf5DCaWd5ul"
      }
    },
    {
      "cell_type": "code",
      "source": [
        "# Encrypt a message\n",
        "message = \"HELLO\"\n",
        "key, encrypted_message = one_time_pad_encrypt(?)  # Replace ? with the correct function call\n",
        "decrypted_message = one_time_pad_decrypt(?, ?)  # Replace ? with correct decryption parameters\n",
        "\n",
        "# Display results\n",
        "print(\"Original Message: \", message)\n",
        "print(\"Encryption Key:  \", key)\n",
        "print(\"Encrypted Message:\", encrypted_message)\n",
        "print(\"Decrypted Message:\", decrypted_message)\n"
      ],
      "metadata": {
        "id": "05sBBPchd9aY"
      },
      "execution_count": null,
      "outputs": []
    },
    {
      "cell_type": "markdown",
      "source": [
        "## 📌 Expected Output\n",
        "\n",
        "- The **encrypted message** should appear as a **list of numbers**, representing **encoded ASCII values**.  \n",
        "- The **decrypted message** should **exactly match** the **original message**.  \n",
        "- The **encryption key** should be **random for every execution**, ensuring **unique encryption**.  \n",
        "\n",
        "---\n",
        "\n",
        "## 🎯 Bonus Challenge\n",
        "\n",
        "Modify the function so that:  \n",
        "✅ It **accepts binary messages**, performing **OTP encryption at the bit level** instead of **ASCII values**.  \n",
        "✅ Simulate a **Quantum Key Distribution (QKD) step**, where the **key is securely exchanged** before encryption.  \n"
      ],
      "metadata": {
        "id": "fNb09TXHeDuG"
      }
    },
    {
      "cell_type": "code",
      "source": [
        "# Start Bonus Challenge Here"
      ],
      "metadata": {
        "id": "OrmDiaA9eDYN"
      },
      "execution_count": null,
      "outputs": []
    }
  ]
}