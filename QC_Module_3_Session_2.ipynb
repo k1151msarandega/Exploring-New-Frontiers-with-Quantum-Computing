{
  "nbformat": 4,
  "nbformat_minor": 0,
  "metadata": {
    "colab": {
      "provenance": [],
      "collapsed_sections": [
        "sqcasMZw1ayv",
        "VDRIluYq11YZ",
        "Kd1J7pzP7L-y",
        "pUF-39re7eqL",
        "cdHeEzIOV8YE"
      ],
      "include_colab_link": true
    },
    "kernelspec": {
      "name": "python3",
      "display_name": "Python 3"
    },
    "language_info": {
      "name": "python"
    }
  },
  "cells": [
    {
      "cell_type": "markdown",
      "metadata": {
        "id": "view-in-github",
        "colab_type": "text"
      },
      "source": [
        "<a href=\"https://colab.research.google.com/github/k1151msarandega/Exploring-New-Frontiers-with-Quantum-Computing/blob/main/QC_Module_3_Session_2.ipynb\" target=\"_parent\"><img src=\"https://colab.research.google.com/assets/colab-badge.svg\" alt=\"Open In Colab\"/></a>"
      ]
    },
    {
      "cell_type": "markdown",
      "source": [
        "<img src=\"https://drive.google.com/uc?id=1eBlhnvWo94RnzPK-86F5MzfFd86Cjb9C\" width=\"65\">\n",
        "\n",
        "\n",
        "Created by: The AVELA Team\n",
        "# **0. Welcome to the <a style=\"text-decoration:none;\" href=\"https://towardsdatascience.com/cheat-sheet-for-google-colab-63853778c093\"><font color='blue'>G</font><font color='red'>o</font><font color='Goldenrod'>o</font><font color='blue'>g</font><font color='green'>l</font><font color='red'>e</font><font color=\"black\"> Colab</font></a> notebook!**\n",
        "Make sure to read <u>every</u> cell in this notebook to get your Quantum Computing [Python](https://docs.google.com/document/d/1gen8uhv7UC_Qo5wT5paX8tesrSffhXlK9WDYunmcWgs/edit?usp=sharing) code working! For more guidance, you can check out the [python documentation](https://docs.python.org/3/tutorial/index.html) to learn more python and the [qiskit documentation](https://docs.quantum.ibm.com/). If you do not know how to code in at all here is a curated [AVELA Python Basics Course](https://tinyurl.com/AVELA-python-basics) to start with. \\\\\n",
        "To run code, all you have to do is click the *run* button ▶️ (triangle in a circle). \\\\\n",
        "\n",
        "\n",
        "Your job will be to read every block and **replace** the question marks (?) in each coding cell with the **correct** information explained in the comments. Then run the cell! \\\\\n",
        "\n",
        "NOTE: If there are no question marks (?) in a cell, then just click the *run* button!\n",
        "\n",
        "\n",
        "###[Completion form](https://forms.gle/QZ8BuKcygNruMEs5A)"
      ],
      "metadata": {
        "id": "_GJU73vUq4fb"
      }
    },
    {
      "cell_type": "code",
      "source": [
        "#@title ↓Install qiskit Library by Clicking \"run\" { display-mode: \"form\" }\n",
        "\n",
        "!pip install qiskit qiskit-aer qiskit-ibm-runtime matplotlib numpy"
      ],
      "metadata": {
        "id": "6KbcfnigXwWv"
      },
      "execution_count": null,
      "outputs": []
    },
    {
      "cell_type": "markdown",
      "source": [
        "# Activity 1: Simulating Atomic Clock Behavior with Ramsey Interferometry"
      ],
      "metadata": {
        "id": "sqcasMZw1ayv"
      }
    },
    {
      "cell_type": "markdown",
      "source": [
        "## Quantum Sensing Lab: Simulating Atomic Clocks with Ramsey Interferometry\n",
        "\n",
        "---\n",
        "\n",
        "### Introduction\n",
        "\n",
        "Atomic clocks are the most precise timekeeping devices in existence, relying on the oscillations of atoms as a frequency reference. To simulate how atoms evolve and generate accurate time signals, we use a technique from quantum sensing called **Ramsey interferometry**.\n",
        "\n",
        "This Colab activity walks you through simulating this using **Qiskit**, the open-source quantum computing SDK by IBM. You will:\n",
        "\n",
        "- Understand the principle of atomic clocks  \n",
        "- Simulate Ramsey interferometry on a qubit  \n",
        "- Visualize phase-sensitive interference fringes  \n",
        "- Complete code exercises to apply your learning  \n",
        "\n",
        "---\n",
        "\n",
        "## Part 1: Quantum Setup & Theoretical Background\n",
        "\n",
        "This section sets up the libraries and environment you'll use.\n",
        "\n",
        "**Instruction:** Run the cell below to import all necessary packages.\n"
      ],
      "metadata": {
        "id": "GroS32vM1NMw"
      }
    },
    {
      "cell_type": "code",
      "source": [
        "# 🛠️ Setup Qiskit and Visualization Tools\n",
        "from qiskit import QuantumCircuit, transpile\n",
        "from qiskit_aer import AerSimulator\n",
        "from qiskit.visualization import plot_bloch_multivector, plot_histogram\n",
        "from qiskit.quantum_info import Statevector\n",
        "import numpy as np\n",
        "import matplotlib.pyplot as plt\n",
        "\n",
        "# ✅ What you just did:\n",
        "# - Imported Qiskit tools for building and simulating circuits\n",
        "# - Set up visualization tools for results and Bloch sphere states\n"
      ],
      "metadata": {
        "id": "p25mOIBz17Mi"
      },
      "execution_count": null,
      "outputs": []
    },
    {
      "cell_type": "markdown",
      "source": [
        "## 🧪 Part 2: Ramsey Interferometry Function\n",
        "\n",
        "In atomic clocks, we use two π/2 pulses (Hadamard gates) separated by a delay that causes a phase shift. This mimics how atoms evolve over time and accumulate phase, which is then detected through interference.\n",
        "\n",
        "**Instruction:** Fill in the missing parts of the code below to complete the Ramsey sequence.\n"
      ],
      "metadata": {
        "id": "Y90Kk2Ji18Za"
      }
    },
    {
      "cell_type": "code",
      "source": [
        "# 🧪 Function to create a Ramsey interferometry circuit\n",
        "def ramsey_experiment(phase_shift):\n",
        "    \"\"\"Simulate a Ramsey sequence: π/2 pulse, evolution, π/2 pulse, then measure.\"\"\"\n",
        "    qc = QuantumCircuit(1, 1)\n",
        "\n",
        "    qc.?(0)               # ❓ Apply first π/2 pulse (Hint: Hadamard gate)\n",
        "    qc.?(phase_shift, 0)  # ❓ Apply free evolution phase shift (Hint: RZ gate)\n",
        "    qc.?(0)               # ❓ Apply second π/2 pulse\n",
        "\n",
        "    qc.measure(?, ?)      # ❓ Measure qubit 0 into classical bit 0\n",
        "\n",
        "    return qc\n",
        "\n",
        "# 🧠 Think About It:\n",
        "# - What does the RZ gate simulate in the context of an atomic clock?\n",
        "# - Why do we use Hadamard gates here instead of full X rotations?\n"
      ],
      "metadata": {
        "id": "71typ5Hu12EN"
      },
      "execution_count": null,
      "outputs": []
    },
    {
      "cell_type": "markdown",
      "source": [
        "## 📈 Part 3: Simulate and Plot the Interference Pattern\n",
        "\n",
        "Now that we have a working Ramsey circuit, we can simulate it across a range of phase shifts and record the results. This will allow us to visualize the interference pattern—known as **Ramsey fringes**—which reflects the phase sensitivity of the qubit system.\n",
        "\n",
        "**Instruction:** Fill in the blanks to simulate and visualize the Ramsey fringes.\n"
      ],
      "metadata": {
        "id": "DYAYXXoD2BJM"
      }
    },
    {
      "cell_type": "code",
      "source": [
        "# 🧪 Simulate Ramsey experiment over a range of phase shifts\n",
        "backend = AerSimulator()\n",
        "phases = np.linspace(0, 2 * np.pi, 100)\n",
        "prob_0 = []\n",
        "prob_1 = []\n",
        "\n",
        "for phi in phases:\n",
        "    qc = ramsey_experiment(?)                     # ❓ Input phase shift to your function\n",
        "    compiled = transpile(?, backend)              # ❓ Transpile your circuit for simulation\n",
        "    result = backend.run(compiled, shots=?).result()  # ❓ Choose the number of measurement shots\n",
        "\n",
        "    counts = result.get_counts()\n",
        "    prob_0.append(counts.get('0', 0) / ?)         # ❓ Normalize with total shots\n",
        "    prob_1.append(counts.get('1', 0) / ?)         # ❓ Same here\n",
        "\n",
        "# 📊 Plotting the results\n",
        "plt.figure(figsize=(10, 6))\n",
        "plt.plot(phases, prob_0, label='Probability of 0')\n",
        "plt.plot(phases, prob_1, label='Probability of 1')\n",
        "plt.title('Ramsey Fringes – Simulating an Atomic Clock')\n",
        "plt.xlabel('Phase Shift (radians)')\n",
        "plt.ylabel('Probability')\n",
        "plt.legend()\n",
        "plt.grid(True)\n",
        "plt.show()\n",
        "\n",
        "# 💬 Questions for Reflection:\n",
        "# - At which phase values do you see maximum or minimum probability for each state?\n",
        "# - How does this interference pattern relate to precise timekeeping?\n"
      ],
      "metadata": {
        "id": "Zg0sT2Yt2aSY"
      },
      "execution_count": null,
      "outputs": []
    },
    {
      "cell_type": "markdown",
      "source": [
        "## 🧠 Final Discussion: Understanding Quantum Timekeeping\n",
        "\n",
        "Ramsey interferometry allows us to measure how atomic states evolve under phase shifts. The resulting interference fringes are highly sensitive to small changes in frequency — a property that underpins the accuracy of atomic clocks.\n",
        "\n",
        "### 🔍 Explore More\n",
        "\n",
        "Try extending your experiment in the following ways:\n",
        "\n",
        "- Change the number of measurement shots to 10 or 10,000. What happens to the visibility of the fringes?\n",
        "- Replace the `AerSimulator` with `StatevectorSimulator` to observe the exact quantum states instead of probabilistic outcomes.\n",
        "- Add a delay gate to simulate realistic time evolution between the two pulses.\n",
        "- Try a 2-qubit Ramsey experiment to explore how entanglement affects timekeeping performance.\n"
      ],
      "metadata": {
        "id": "kYoTZqhu2hr0"
      }
    },
    {
      "cell_type": "markdown",
      "source": [
        "# Activity 2: Visualizing Matter-Wave Interferometry"
      ],
      "metadata": {
        "id": "VDRIluYq11YZ"
      }
    },
    {
      "cell_type": "markdown",
      "source": [
        "## Quantum Simulating Inertial Sensing with Matter-Wave Interference\n",
        "\n",
        "---\n",
        "\n",
        "## Objective\n",
        "\n",
        "Students will explore how acceleration causes measurable phase shifts in matter-wave interference — the foundation for quantum inertial navigation systems.\n",
        "\n",
        "---\n",
        "\n",
        "## Part 1: Import Libraries (Review from Activity 1)\n",
        "\n",
        "### Concept Reminder\n",
        "\n",
        "These libraries were also used in Activity 1. Recall and reuse them to avoid redundancy and reinforce your understanding.\n",
        "\n",
        "**➡️ Task:** Replace `?` with the correct library/module names in the code cell below.\n"
      ],
      "metadata": {
        "id": "JB9ZYvFL32Gd"
      }
    },
    {
      "cell_type": "code",
      "source": [
        "# 🔁 Import previously used libraries (fill in the blanks!)\n",
        "import ? as np                           # ❓ Used for numerical arrays and math\n",
        "import ?.pyplot as plt                   # ❓ Used for plotting graphs\n",
        "from ??.widgets import Slider            # ❓ Interactive UI widget for sliders\n"
      ],
      "metadata": {
        "id": "PbsbHtkf3nK8"
      },
      "execution_count": null,
      "outputs": []
    },
    {
      "cell_type": "markdown",
      "source": [
        "## Part 2: Define the Interference Pattern Function\n",
        "\n",
        "In quantum sensing, phase shifts can encode information about acceleration. By simulating two matter waves with a relative phase difference, we can observe how their interference pattern changes — a key principle in quantum inertial sensors.\n",
        "\n",
        "**➡️ Task:** Complete the code to simulate matter-wave interference.\n"
      ],
      "metadata": {
        "id": "UDIl-iwl3_dg"
      }
    },
    {
      "cell_type": "code",
      "source": [
        "# Define matter-wave interference with acceleration phase shift\n",
        "def interference_pattern(acceleration, t=1.0, k0=5.0):\n",
        "    \"\"\"\n",
        "    Simulate interference affected by an acceleration-induced phase shift.\n",
        "    acceleration: applied acceleration\n",
        "    t: evolution time\n",
        "    k0: central wave number of the atomic wave\n",
        "    \"\"\"\n",
        "    x = np.linspace(-10, 10, 1000)\n",
        "\n",
        "    phase_shift = ? * t**2 / 2              # ❓ Insert correct variable for acceleration\n",
        "\n",
        "    psi1 = np.cos(? * x)                    # ❓ Reference wave (use k0)\n",
        "    psi2 = np.cos(? * x + ?)                # ❓ Accelerated wave (add phase_shift)\n",
        "\n",
        "    intensity = (?) ** 2                    # ❓ Superpose and square the waves\n",
        "\n",
        "    return x, intensity / np.max(intensity) # Normalize output for plotting\n"
      ],
      "metadata": {
        "id": "gjHL2O-S4Uws"
      },
      "execution_count": null,
      "outputs": []
    },
    {
      "cell_type": "markdown",
      "source": [
        "## Part 3: Build Interactive Simulation\n",
        "\n",
        "An interactive plot helps visualize how the interference pattern changes as acceleration varies. This interactivity makes it easier to understand how phase shifts affect matter-wave interference in real-time.\n",
        "\n",
        "**➡️ Task:** Replace the `?` in the function arguments and logic below to complete the interactive simulation.\n"
      ],
      "metadata": {
        "id": "tVWiSmDf4DjL"
      }
    },
    {
      "cell_type": "code",
      "source": [
        "# 🎛️ Build interactive acceleration visualization\n",
        "def plot_interference():\n",
        "    fig, ax = plt.subplots()\n",
        "    plt.subplots_adjust(bottom=0.25)\n",
        "\n",
        "    x, y = interference_pattern(?)               # ❓ Start with acceleration = 0\n",
        "    l, = plt.plot(x, y, lw=2)\n",
        "\n",
        "    ax.set_title('Matter-Wave Interference and Acceleration')\n",
        "    ax.set_xlabel('Position')\n",
        "    ax.set_ylabel('Normalized Intensity')\n",
        "    ax.set_ylim(0, 4)\n",
        "\n",
        "    ax_accel = plt.axes([0.25, 0.1, 0.65, 0.03])\n",
        "    slider = Slider(ax_accel, 'Acceleration', -5.0, 5.0, valinit=?)\n",
        "\n",
        "    def update(val):\n",
        "        a = slider.val\n",
        "        x, y = interference_pattern(?)           # ❓ Recalculate based on new acceleration\n",
        "        l.set_ydata(y)\n",
        "        fig.canvas.draw_idle()\n",
        "\n",
        "    slider.?(update)                             # ❓ Connect slider to update function\n",
        "    plt.show()\n"
      ],
      "metadata": {
        "id": "nlY7Ujw04YRu"
      },
      "execution_count": null,
      "outputs": []
    },
    {
      "cell_type": "markdown",
      "source": [
        "## Part 4: Reflection & Extension\n",
        "\n",
        "Now that you've simulated acceleration-sensitive interference, take a moment to reflect on what you’ve observed and explore further.\n",
        "\n",
        "### 💬 Reflect\n",
        "\n",
        "- What part of the interference equation is most sensitive to changes in acceleration?\n",
        "- How would increasing the wave number `k₀` affect the interference pattern?\n",
        "\n",
        "### Try These Extensions\n",
        "\n",
        "- Add an envelope function like `np.exp(-x**2)` to simulate realistic, localized wave packets.\n",
        "- Plot and compare `|ψ₁|²` and `|ψ₂|²` individually vs. the full interference pattern `|ψ₁ + ψ₂|²`.\n",
        "- Compare your simulation's sensitivity to that of a classical accelerometer. What advantages or limitations do you observe?\n"
      ],
      "metadata": {
        "id": "JjOxuYz74HI1"
      }
    },
    {
      "cell_type": "code",
      "source": [
        "# 🚀 Run your full simulation\n",
        "plot_interference()"
      ],
      "metadata": {
        "id": "e9mNChlE4rs7"
      },
      "execution_count": null,
      "outputs": []
    },
    {
      "cell_type": "markdown",
      "source": [
        "# Activity 3: Simulating NV Center Magnetic Field Detection"
      ],
      "metadata": {
        "id": "Kd1J7pzP7L-y"
      }
    },
    {
      "cell_type": "markdown",
      "source": [
        "## Quantum Simulating ODMR in Diamond NV Centers\n",
        "\n",
        "---\n",
        "\n",
        "## Objective\n",
        "\n",
        "Simulate the response of a diamond NV center to magnetic fields using **Optically Detected Magnetic Resonance (ODMR)** — a key mechanism in quantum sensing that enables high-resolution magnetometry.\n",
        "\n",
        "---\n",
        "\n",
        "## Part 1: Setup & Recall\n",
        "\n",
        "This activity reuses libraries and tools introduced in Activities 1 and 2. Can you recall what’s needed to simulate quantum systems and plot results?\n",
        "\n",
        "**➡️ Task:** Fill in the missing modules to prepare the environment.\n"
      ],
      "metadata": {
        "id": "-Fn3Mpgz5ex-"
      }
    },
    {
      "cell_type": "code",
      "source": [
        "# 📦 Import necessary packages for simulation and interactivity\n",
        "import ? as ?               # ❓ Numerical computing\n",
        "import ?.? as ?             # ❓ Plotting utilities\n",
        "from ??.? import ?          # ❓ Slider widget for interactive control\n"
      ],
      "metadata": {
        "id": "IIQEJJBg5i7h"
      },
      "execution_count": null,
      "outputs": []
    },
    {
      "cell_type": "markdown",
      "source": [
        "## Part 2: Simulate the ODMR Spectrum\n",
        "\n",
        "NV centers shift their spin energy levels in response to an external magnetic field. This Zeeman effect changes the resonance condition for microwave excitation, producing a dip in fluorescence when the microwave frequency matches the energy gap.\n",
        "\n",
        "**➡️ Task:** Complete the function to compute the ODMR dip frequencies and simulate the fluorescence response curve.\n"
      ],
      "metadata": {
        "id": "_fLo2hC850wU"
      }
    },
    {
      "cell_type": "code",
      "source": [
        "# 🧪 Define the magnetic field–dependent ODMR signal\n",
        "def odmr_spectrum(B_field, D=2.87, gamma=2.8):\n",
        "    \"\"\"\n",
        "    Simulate ODMR spectrum for NV centers.\n",
        "    B_field: magnetic field in millitesla (mT)\n",
        "    D: zero-field splitting in GHz\n",
        "    gamma: gyromagnetic ratio (MHz/mT)\n",
        "    \"\"\"\n",
        "    freqs = np.linspace(2.7, 3.1, 500)   # GHz range for scan\n",
        "    shift = ? * B_field / 1000           # ❓ Convert MHz to GHz and apply field shift\n",
        "\n",
        "    contrast = ?                         # ❓ Set fluorescence contrast (e.g., 0.1)\n",
        "    linewidth = ?                        # ❓ Set linewidth of resonance dips (GHz)\n",
        "\n",
        "    # ODMR signal with symmetric double dips at ±shift\n",
        "    signal = 1 - contrast * (np.exp(-(freqs - (D - shift))**2 / (2 * linewidth**2)) +\n",
        "                             np.exp(-(freqs - (D + shift))**2 / (2 * linewidth**2)))\n",
        "\n",
        "    return freqs, signal\n"
      ],
      "metadata": {
        "id": "aH8nu2c9514Q"
      },
      "execution_count": null,
      "outputs": []
    },
    {
      "cell_type": "markdown",
      "source": [
        "## Part 3: Interactive ODMR Visualization\n",
        "\n",
        "Now you’ll build an interactive tool to explore how the ODMR spectrum responds to different magnetic field strengths. This will help you visualize how Zeeman splitting causes shifts in resonance frequencies.\n",
        "\n",
        "**➡️ Task:** Fill in the `?` to hook up the slider and dynamically update the plot based on the magnetic field value.\n"
      ],
      "metadata": {
        "id": "JePs2cC26A83"
      }
    },
    {
      "cell_type": "code",
      "source": [
        "# Interactive Plot for ODMR Magnetic Field Detection\n",
        "def plot_odmr():\n",
        "    fig, ax = plt.subplots()\n",
        "    plt.subplots_adjust(bottom=0.25)\n",
        "\n",
        "    freqs, signal = odmr_spectrum(?)            # ❓ Start with B_field = 0\n",
        "    l, = ax.plot(freqs, signal, lw=2)\n",
        "\n",
        "    ax.set_title('Simulated NV Center ODMR Spectrum')\n",
        "    ax.set_xlabel('Microwave Frequency (GHz)')\n",
        "    ax.set_ylabel('Normalized Fluorescence')\n",
        "    ax.set_ylim(0.85, 1.01)\n",
        "\n",
        "    ax_field = plt.axes([0.25, 0.1, 0.65, 0.03])\n",
        "    slider = Slider(ax_field, 'Magnetic Field (mT)', 0, 10, valinit=?)\n",
        "\n",
        "    def update(val):\n",
        "        B = slider.val\n",
        "        freqs, signal = odmr_spectrum(?)        # ❓ Update with new field value\n",
        "        l.set_ydata(signal)\n",
        "        fig.canvas.draw_idle()\n",
        "\n",
        "    slider.?(update)                            # ❓ Connect the slider to update function\n",
        "    plt.show()\n"
      ],
      "metadata": {
        "id": "5-yNU1cE6G7p"
      },
      "execution_count": null,
      "outputs": []
    },
    {
      "cell_type": "markdown",
      "source": [
        "## Part 4: Reflection & Advanced Exploration\n",
        "\n",
        "Now that you’ve simulated NV-based magnetic field sensing, take time to reflect on the underlying physics and explore ways to deepen your understanding.\n",
        "\n",
        "### 💬 Questions for Discussion\n",
        "\n",
        "- Why do the ODMR dips split symmetrically with increasing magnetic field?\n",
        "- How does the gyromagnetic ratio (`γ`) affect the sensitivity of this magnetometer?\n",
        "\n",
        "### 🧪 Exploration Ideas\n",
        "\n",
        "- Modify the linewidth to simulate sensors with lower spin coherence.\n",
        "- Simulate ODMR spectra from NV centers aligned along different crystal axes.\n",
        "- Plot magnetic field strength (`B_field`) versus frequency splitting to illustrate the linear Zeeman effect.\n"
      ],
      "metadata": {
        "id": "odaNs5V36MvB"
      }
    },
    {
      "cell_type": "code",
      "source": [
        "# 🚀 Run the interactive ODMR plot\n",
        "plot_odmr()\n"
      ],
      "metadata": {
        "id": "y0FsCuVL6bve"
      },
      "execution_count": null,
      "outputs": []
    },
    {
      "cell_type": "markdown",
      "source": [
        "# Activity 4: Simulating Quantum Radar Principles Using Entanglement"
      ],
      "metadata": {
        "id": "pUF-39re7eqL"
      }
    },
    {
      "cell_type": "markdown",
      "source": [
        "## Quantum Radar – Detecting with Entanglement\n",
        "\n",
        "---\n",
        "\n",
        "## Objective\n",
        "\n",
        "Learn how quantum radar leverages entangled qubits to detect the presence of a target through phase-sensitive measurements. In this lab, you will simulate a basic **quantum illumination protocol** using Qiskit.\n",
        "\n",
        "---\n",
        "\n",
        "## Part 1: Setup & Reuse from Previous Labs\n",
        "\n",
        "This activity builds on concepts and tools introduced in Activities 1 and 3.\n",
        "\n",
        "**➡️ Task:** Recall and retype the libraries used previously. Replace each `?` with the correct module or function to prepare the environment.\n"
      ],
      "metadata": {
        "id": "X0n9Iptw7xgs"
      }
    },
    {
      "cell_type": "code",
      "source": [
        "# Import modules (previously used in Activities 1 & 3)\n",
        "from ? import QuantumCircuit, transpile               # ❓ Qiskit circuit and transpiler\n",
        "from ??.aer import AerSimulator                       # ❓ Qiskit simulator\n",
        "from ??.visualization import plot_histogram           # ❓ For measurement result plots\n",
        "import ? as np                                        # ❓ For math and arrays\n",
        "import ?.pyplot as plt                                # ❓ For plotting\n"
      ],
      "metadata": {
        "id": "2eIxX16t72to"
      },
      "execution_count": null,
      "outputs": []
    },
    {
      "cell_type": "markdown",
      "source": [
        "## Part 2: Simulate Quantum Radar Detection Circuit\n",
        "\n",
        "You’ll now simulate the core idea behind quantum radar: generate an entangled pair of qubits (a Bell state), send one toward a target, and detect the presence of a reflected signal based on phase changes.\n",
        "\n",
        "The presence of a target introduces a phase shift, which affects the measurement outcome when the entangled qubits are recombined.\n",
        "\n",
        "**➡️ Task:** Fill in the circuit construction and logic that changes when a target is present or absent.\n"
      ],
      "metadata": {
        "id": "I-7GtrXw8YUZ"
      }
    },
    {
      "cell_type": "code",
      "source": [
        "# Quantum Radar Circuit Using Entanglement\n",
        "def quantum_radar(target_present):\n",
        "    \"\"\"\n",
        "    Simulates a basic quantum radar detection scheme using a Bell state.\n",
        "    A small phase shift is applied to the idler qubit if a target is present.\n",
        "    \"\"\"\n",
        "    qc = QuantumCircuit(?, ?)                     # ❓ Two qubits, two classical bits\n",
        "\n",
        "    qc.?(0)                                       # ❓ Create superposition on qubit 0\n",
        "    qc.?(0, 1)                                    # ❓ Entangle qubits with CX\n",
        "\n",
        "    if target_present:\n",
        "        qc.?(np.pi/4, ?)                          # ❓ Apply small phase shift to qubit 1\n",
        "\n",
        "    qc.?(0, 1)                                    # ❓ Reverse entanglement\n",
        "    qc.?(0)                                       # ❓ Final Hadamard on qubit 0\n",
        "    qc.measure([?, ?], [?, ?])                    # ❓ Measure both qubits\n",
        "\n",
        "    return qc\n"
      ],
      "metadata": {
        "id": "Fx3mrRgf7-Xy"
      },
      "execution_count": null,
      "outputs": []
    },
    {
      "cell_type": "markdown",
      "source": [
        "## Part 3: Run and Compare the Radar Outcomes\n",
        "\n",
        "Now it's time to test your quantum radar! You’ll simulate two cases:\n",
        "\n",
        "1. **No target present** – the signal qubit does not pick up a phase shift.  \n",
        "2. **Target present** – a phase shift is introduced, altering the interference pattern upon measurement.\n",
        "\n",
        "By comparing the measurement statistics from both scenarios, you can detect the presence of a target.\n",
        "\n",
        "**➡️ Task:** Complete the logic to run, transpile, and extract results from the simulator for both target and no-target cases.\n"
      ],
      "metadata": {
        "id": "vXkMUi7p8Z48"
      }
    },
    {
      "cell_type": "code",
      "source": [
        "# Simulate and compare radar detection outcomes\n",
        "backend = AerSimulator()\n",
        "shots = 1024\n",
        "\n",
        "qc_no_target = quantum_radar(?)                   # ❓ No phase shift\n",
        "qc_with_target = quantum_radar(?)                 # ❓ With phase shift\n",
        "\n",
        "compiled_1 = transpile(?, backend)                # ❓ Transpile first circuit\n",
        "compiled_2 = transpile(?, backend)                # ❓ Transpile second circuit\n",
        "\n",
        "result_1 = backend.run(compiled_1, shots=shots).result().get_counts()\n",
        "result_2 = backend.run(compiled_2, shots=shots).result().get_counts()\n",
        "\n",
        "# Think About It:\n",
        "# What’s the difference in outcomes with and without phase shifts?\n",
        "# Why does a small shift cause observable interference changes?\n"
      ],
      "metadata": {
        "id": "AxROl44H8Bhe"
      },
      "execution_count": null,
      "outputs": []
    },
    {
      "cell_type": "markdown",
      "source": [
        "## Part 4: Visualize the Quantum Radar Signal Response\n",
        "\n",
        "Now that you've run simulations for both scenarios, it's time to visualize the measurement outcomes. This comparison reveals how the presence of a target alters the quantum signal — a key feature of quantum radar systems.\n",
        "\n",
        "You’ll plot the probability distributions for both cases and interpret the shift caused by the phase-altering target.\n",
        "\n",
        "**➡️ Task:** Use the placeholders to complete the radar result comparison chart and analyze the difference between target and no-target cases.\n"
      ],
      "metadata": {
        "id": "47e4F1Qw8eBf"
      }
    },
    {
      "cell_type": "code",
      "source": [
        "# Compare probability distributions with/without target\n",
        "labels = ['00', '01', '10', '11']\n",
        "data_1 = [result_1.get(label, 0) / shots for label in labels]\n",
        "data_2 = [result_2.get(label, 0) / shots for label in labels]\n",
        "\n",
        "x = np.arange(len(labels))\n",
        "width = 0.35\n",
        "\n",
        "fig, ax = plt.subplots(figsize=(10, 6))\n",
        "rects1 = ax.bar(x - width/2, ?, width, label='No Target')          # ❓ Data without target\n",
        "rects2 = ax.bar(x + width/2, ?, width, label='Target Present')     # ❓ Data with target\n",
        "\n",
        "ax.set_ylabel('Probability')\n",
        "ax.set_title('Quantum Radar Signal Detection Comparison')\n",
        "ax.set_xticks(x)\n",
        "ax.set_xticklabels(labels)\n",
        "ax.legend()\n",
        "ax.grid(True)\n",
        "plt.show()\n"
      ],
      "metadata": {
        "id": "9iDyjW6I8JMJ"
      },
      "execution_count": null,
      "outputs": []
    },
    {
      "cell_type": "markdown",
      "source": [
        "## 💬 Reflection & Challenges\n",
        "\n",
        "Take time to reflect on what you’ve learned about entanglement-based detection and how quantum radar differs from classical approaches.\n",
        "\n",
        "### Discussion\n",
        "\n",
        "- How does entanglement help distinguish between the \"target\" and \"no target\" scenarios?\n",
        "- Why does even a small phase shift lead to detectable changes in the measurement outcomes?\n",
        "\n",
        "### Explore Further\n",
        "\n",
        "- Modify the phase shift in the `rz()` gate to `np.pi/8` (smaller) or `np.pi/2` (larger). What changes do you observe?\n",
        "- Add a third qubit to simulate quantum decoherence or model multiple reflecting targets.\n",
        "- **Research prompt:** What advantages does quantum illumination offer compared to classical radar, especially in noisy or low-reflectivity environments?\n"
      ],
      "metadata": {
        "id": "c30O_HTO8igi"
      }
    },
    {
      "cell_type": "markdown",
      "source": [
        "# Activity 5: Measuring Tiny Phase Shifts with Quantum Circuits"
      ],
      "metadata": {
        "id": "cdHeEzIOV8YE"
      }
    },
    {
      "cell_type": "markdown",
      "source": [
        "## Quantum Phase Estimation (QPE) with Qiskit\n",
        "\n",
        "## Objective\n",
        "\n",
        "Use **Quantum Phase Estimation (QPE)** to measure small phase shifts with high precision — a foundational capability in quantum sensing applications such as atomic spectroscopy, gravimetry, and frequency metrology.\n",
        "\n",
        "---\n",
        "\n",
        "## Part 1: Setup (Review from Activities 1–4)\n",
        "\n",
        "You’ll be reusing the same simulation and plotting tools from earlier activities.\n",
        "\n",
        "**➡️ Task:** Fill in the missing library imports based on what you’ve used in Activities 1 through 4.\n"
      ],
      "metadata": {
        "id": "JXuRzImwV1FF"
      }
    },
    {
      "cell_type": "code",
      "source": [
        "# Setup – Reuse Qiskit tools from previous activities\n",
        "from ? import ?, ?                       # ❓ Circuit creation and transpilation\n",
        "from ??.aer import ?                               # ❓ Qiskit Aer simulator\n",
        "from ??.? import ?                            # ❓ Quantum Fourier Transform\n",
        "from ??.? import ?                  # ❓ Histogram of measurement results\n",
        "from ?.? import ?                                 # ❓ For displaying plots inline\n",
        "import ?.? as ?                                       # ❓ General plotting (used in prior labs)\n"
      ],
      "metadata": {
        "id": "AK3qPOTkWfTx"
      },
      "execution_count": null,
      "outputs": []
    },
    {
      "cell_type": "markdown",
      "source": [
        "## Part 2: Create the QPE Circuit\n",
        "\n",
        "Quantum Phase Estimation (QPE) works by using a register of qubits to capture phase information from a unitary operator. Repeated applications of a controlled unitary cause the control qubits to accumulate the encoded phase, which is then extracted via the inverse quantum Fourier transform.\n",
        "\n",
        "**➡️ Task:** Complete the construction of the QPE circuit by filling in the missing steps for preparing the qubit registers, applying the controlled unitary, and performing the inverse QFT.\n"
      ],
      "metadata": {
        "id": "frILPiCaWFef"
      }
    },
    {
      "cell_type": "code",
      "source": [
        "# Define the Quantum Phase Estimation circuit\n",
        "def qpe_circuit(phase, num_counting_qubits=3):\n",
        "    \"\"\"\n",
        "    Build a QPE circuit to estimate a fractional phase encoded in a unitary.\n",
        "    phase: encoded phase (0 ≤ phase < 1)\n",
        "    num_counting_qubits: number of qubits used to estimate phase\n",
        "    \"\"\"\n",
        "    qc = QuantumCircuit(?, ?)                             # ❓ How many total qubits and classical bits?\n",
        "\n",
        "    for q in range(?):                                    # ❓ Loop through counting qubits\n",
        "        qc.?(q)                                           # ❓ Apply Hadamard for superposition\n",
        "\n",
        "    for q in range(?):                                    # ❓ For each counting qubit...\n",
        "        repetitions = ?                                   # ❓ How many times to repeat? (Hint: powers of 2)\n",
        "        for _ in range(repetitions):\n",
        "            qc.?(2 * 3.14159 * phase, q, ?)              # ❓ Apply controlled phase to target\n",
        "\n",
        "    # Inverse Quantum Fourier Transform\n",
        "    qft = QFT(?, inverse=True, do_swaps=True).to_gate(label=\"QFT†\")   # ❓ Size of QFT?\n",
        "    qc.append(qft, range(?))                                          # ❓ Apply to which qubits?\n",
        "\n",
        "    qc.measure(range(?), range(?))                     # ❓ Measure counting qubits into classical bits\n",
        "    return qc\n"
      ],
      "metadata": {
        "id": "B6pjPagDWg_M"
      },
      "execution_count": null,
      "outputs": []
    },
    {
      "cell_type": "markdown",
      "source": [
        "## Part 3: Run the QPE Simulation\n",
        "\n",
        "Now that you've built your QPE circuit, it's time to simulate it and extract the estimated phase. For example, if the true phase is `0.3125`, the correct binary output should be close to `0101` (for a 4-qubit counting register).\n",
        "\n",
        "**➡️ Task:** Fill in the missing function calls and variables needed to execute the circuit on a simulator and read out the phase estimate from the measurement results.\n"
      ],
      "metadata": {
        "id": "PDgXuNY3WMhG"
      }
    },
    {
      "cell_type": "code",
      "source": [
        "# Run the phase estimation circuit\n",
        "backend = ?                                   # ❓ Choose your simulator backend\n",
        "true_phase = 0.3125                           # Try binary phases: 0.5 (0.1), 0.625 (0.101), etc.\n",
        "\n",
        "qc = qpe_circuit(?, 4)                        # ❓ Estimate the true phase using 4 counting qubits\n",
        "compiled = transpile(qc, ?)                   # ❓ Transpile circuit for simulator\n",
        "\n",
        "result = backend.run(compiled, shots=?).result()   # ❓ Choose number of measurement shots\n",
        "counts = result.get_counts()\n",
        "\n",
        "# Reflection:\n",
        "# Which binary result appears most frequently in the histogram?\n",
        "# What does it represent in decimal?\n"
      ],
      "metadata": {
        "id": "6l76CmchW20o"
      },
      "execution_count": null,
      "outputs": []
    },
    {
      "cell_type": "markdown",
      "source": [
        "## Part 4: Visualize & Analyze the Result\n",
        "\n",
        "After running your QPE simulation, you’ll now visualize the results to identify the most likely phase estimate.\n",
        "\n",
        "**➡️ Task:** Display a histogram of the measurement results and interpret the dominant binary outcome. What phase does it represent, and how close is it to the expected value?\n"
      ],
      "metadata": {
        "id": "--YXKQmWWPpR"
      }
    },
    {
      "cell_type": "code",
      "source": [
        "# Show histogram of QPE result\n",
        "?(plot_histogram(counts, title=f\"QPE for Phase = {true_phase}\"))   # ❓ Use display() from IPython\n"
      ],
      "metadata": {
        "id": "3HA_nNctW78p"
      },
      "execution_count": null,
      "outputs": []
    },
    {
      "cell_type": "markdown",
      "source": [
        "## Discussion & Deeper Exploration\n",
        "\n",
        "Reflect on how Quantum Phase Estimation (QPE) achieves precision, and explore ways to extend its performance.\n",
        "\n",
        "### Think About\n",
        "\n",
        "- What factors determine the resolution and accuracy of the phase estimate in QPE?\n",
        "- How does QPE compare to classical phase measurement techniques in terms of efficiency and precision?\n",
        "\n",
        "### Try This\n",
        "\n",
        "- Estimate a phase of `0.5` — if you're using 4 counting qubits, the result should be `'1000'`.\n",
        "- Increase the number of counting qubits to 5 or 6. How does the sharpness and precision of the histogram improve?\n",
        "- Replace the standard `controlled-cp()` gate with your own custom unitary operator. How does this change the interpretation of the result?\n"
      ],
      "metadata": {
        "id": "E47K6kxQWSiy"
      }
    }
  ]
}