{
  "nbformat": 4,
  "nbformat_minor": 0,
  "metadata": {
    "colab": {
      "provenance": [],
      "collapsed_sections": [
        "KVi4nPlvxscX",
        "BBSDmdswyVKc",
        "yPRnutS_yrRX",
        "5OxyTLlMy632",
        "-DqKnL0yzJlK",
        "W3ef5J6qzVK6",
        "MaxkNh5z5qOD",
        "Uj9HHeAMzpD8",
        "GXXC5I32z0hJ",
        "kzQlF6Jfz-wn"
      ],
      "include_colab_link": true
    },
    "kernelspec": {
      "name": "python3",
      "display_name": "Python 3"
    },
    "language_info": {
      "name": "python"
    }
  },
  "cells": [
    {
      "cell_type": "markdown",
      "metadata": {
        "id": "view-in-github",
        "colab_type": "text"
      },
      "source": [
        "<a href=\"https://colab.research.google.com/github/k1151msarandega/Exploring-New-Frontiers-with-Quantum-Computing/blob/main/QC_Module_3_Session_1.ipynb\" target=\"_parent\"><img src=\"https://colab.research.google.com/assets/colab-badge.svg\" alt=\"Open In Colab\"/></a>"
      ]
    },
    {
      "cell_type": "markdown",
      "source": [
        "<img src=\"https://drive.google.com/uc?id=1eBlhnvWo94RnzPK-86F5MzfFd86Cjb9C\" width=\"65\">\n",
        "\n",
        "\n",
        "Created by: The AVELA Team\n",
        "# **0. Welcome to the <a style=\"text-decoration:none;\" href=\"https://towardsdatascience.com/cheat-sheet-for-google-colab-63853778c093\"><font color='blue'>G</font><font color='red'>o</font><font color='Goldenrod'>o</font><font color='blue'>g</font><font color='green'>l</font><font color='red'>e</font><font color=\"black\"> Colab</font></a> notebook!**\n",
        "Make sure to read <u>every</u> cell in this notebook to get your Quantum Computing [Python](https://docs.google.com/document/d/1gen8uhv7UC_Qo5wT5paX8tesrSffhXlK9WDYunmcWgs/edit?usp=sharing) code working! \\\\\n",
        "To run code, all you have to do is click the *run* button ▶️ (triangle in a circle). \\\\\n",
        "\n",
        "\n",
        "Your job will be to **replace** the question marks (?) in each coding cell with the **correct** information explained in the comments. Then run the cell! \\\\\n",
        "\n",
        "NOTE: If there are no question marks (?) in a cell, then just click the *run* button!"
      ],
      "metadata": {
        "id": "ImsH0UZ89XEY"
      }
    },
    {
      "cell_type": "markdown",
      "source": [
        "# 🔹 Activity 1: Introduction to Qiskit – Setting Up Your Quantum Environment"
      ],
      "metadata": {
        "id": "KVi4nPlvxscX"
      }
    },
    {
      "cell_type": "markdown",
      "source": [
        "## 📌 What is Qiskit?\n",
        "\n",
        "**Qiskit** is an **open-source framework** for working with **quantum computers** and **quantum simulators**. It allows you to:\n",
        "\n",
        "✅ **Create quantum circuits**  \n",
        "✅ **Simulate quantum algorithms**  \n",
        "✅ **Run quantum programs** on **real IBM quantum hardware**  \n",
        "\n",
        "---\n",
        "\n",
        "## 🔹 Qiskit’s Key Components\n",
        "\n",
        "Qiskit is structured into **four key modules**:\n",
        "\n",
        "- **Qiskit Terra** – For **designing quantum circuits and algorithms**  \n",
        "- **Qiskit Aer** – For **simulating quantum circuits**  \n",
        "- **Qiskit Ignis** – For **error mitigation and noise modeling** (advanced use)  \n",
        "- **Qiskit IBMQ** – For **running circuits on real IBM quantum devices**  \n",
        "\n",
        "---\n",
        "\n",
        "# 🔹 Task 1: Installing and Importing Qiskit\n",
        "\n",
        "## 🔍 What You'll Learn\n",
        "✅ How to **install Qiskit** and **set up your environment**  \n",
        "✅ Import the **core Qiskit modules**  \n",
        "✅ Verify that **Qiskit is ready to use**  \n",
        "\n",
        "---\n",
        "\n",
        "## ✅ Your Task\n",
        "Modify the following **code** to correctly **install and import Qiskit**.\n"
      ],
      "metadata": {
        "id": "u4zyQ2Vo9b23"
      }
    },
    {
      "cell_type": "code",
      "source": [
        "# Install Qiskit (Uncomment if running for the first time)\n",
        "# !pip install ?"
      ],
      "metadata": {
        "id": "qB6geqCF2PbO"
      },
      "execution_count": null,
      "outputs": []
    },
    {
      "cell_type": "code",
      "source": [
        "# Import necessary Qiskit modules\n",
        "from qiskit import ?\n",
        "import numpy as np\n",
        "import matplotlib.pyplot as plt\n",
        "\n",
        "print(\"Qiskit is ready to use!\")"
      ],
      "metadata": {
        "id": "qSRe3Fc-2L4z"
      },
      "execution_count": null,
      "outputs": []
    },
    {
      "cell_type": "markdown",
      "source": [
        "## 📌 Expected Output\n",
        "\n",
        "✅ After running the cell, it should print:  \n",
        "\n",
        "Qiskit is ready to use!\n",
        "\n",
        "\n",
        "✅ If running for the first time, it should **install Qiskit** before proceeding.  \n",
        "\n",
        "---\n",
        "\n",
        "## 🔍 Hint:\n",
        "Import the following Qiskit modules:  \n",
        "\n",
        "```python\n",
        "from qiskit import QuantumCircuit\n",
        "\n",
        "```\n"
      ],
      "metadata": {
        "id": "uJ2XQPc3Ac5n"
      }
    },
    {
      "cell_type": "code",
      "source": [
        "#@title ↓Install Additional Support by Clicking \"run\" { display-mode: \"form\" }\n",
        "\n",
        "pip install pylatexenc"
      ],
      "metadata": {
        "id": "BLoujfFY2acz"
      },
      "execution_count": null,
      "outputs": []
    },
    {
      "cell_type": "code",
      "source": [
        "#@title ↓Install Additional Support by Clicking \"run\" { display-mode: \"form\" }\n",
        "\n",
        "pip install qiskit-aer"
      ],
      "metadata": {
        "id": "RhyQ9knU20Ct"
      },
      "execution_count": null,
      "outputs": []
    },
    {
      "cell_type": "code",
      "source": [
        "#@title ↓Import Important libraries by Clicking \"run\" { display-mode: \"form\" }\n",
        "\n",
        "from qiskit import QuantumCircuit, QuantumRegister, ClassicalRegister\n",
        "from qiskit.quantum_info import Operator\n",
        "from qiskit.visualization import plot_histogram"
      ],
      "metadata": {
        "id": "q8TTzssZ3Bbc"
      },
      "execution_count": null,
      "outputs": []
    },
    {
      "cell_type": "markdown",
      "source": [
        "# 🔹 Activity 2: Complex Numbers in Python – Essential Mathematical Tools"
      ],
      "metadata": {
        "id": "BBSDmdswyVKc"
      }
    },
    {
      "cell_type": "markdown",
      "source": [
        "## 📌 Introduction to Complex Numbers in Quantum Computing\n",
        "\n",
        "In **quantum mechanics**, states are often represented using **complex numbers** of the form:\n",
        "\n",
        "$$\n",
        "z = a + bi\n",
        "$$\n",
        "\n",
        "### Where:\n",
        "- **\\( a \\)** is the **real part**  \n",
        "- **\\( b \\)** is the **imaginary part**  \n",
        "- **\\( i \\) (or \\( j \\) in Python)** represents the **imaginary unit**, where:\n",
        "\n",
        "  $$\n",
        "  i^2 = -1\n",
        "  $$\n",
        "\n",
        "---\n",
        "\n",
        "# 🔹 Task 1: Working with Complex Numbers\n",
        "\n",
        "## 🔍 What You'll Learn\n",
        "✅ How **complex numbers** are used in **quantum mechanics**  \n",
        "✅ Perform **basic operations** such as **magnitude** and **conjugation**  \n",
        "✅ Compute **products of complex numbers**  \n",
        "\n",
        "---\n",
        "\n",
        "## ✅ Your Task\n",
        "Modify the following **code** to correctly **define and manipulate complex numbers**.\n"
      ],
      "metadata": {
        "id": "Bqc9L6QNEEQb"
      }
    },
    {
      "cell_type": "code",
      "source": [
        "# TODO: Define two complex numbers and perform basic operations\n",
        "\n",
        "z1 = ?  # Define a complex number, e.g., 1 + 2j\n",
        "z2 = ?  # Define another complex number\n",
        "\n",
        "# Compute magnitude and conjugate\n",
        "magnitude = abs(?)  # Replace ? with correct variable\n",
        "conjugate = ?.conjugate()  # Replace ? with correct variable\n",
        "\n",
        "# Compute product\n",
        "product = ? * ?  # Replace ? with correct multiplication\n",
        "\n",
        "# Print results\n",
        "print(\"Magnitude of z1:\", magnitude)\n",
        "print(\"Conjugate of z2:\", conjugate)\n",
        "print(\"Product of z1 and z2:\", product)\n"
      ],
      "metadata": {
        "id": "HGuAiJBPCNvL"
      },
      "execution_count": null,
      "outputs": []
    },
    {
      "cell_type": "markdown",
      "source": [
        "## 📌 Expected Output\n",
        "\n",
        "- The **magnitude** of \\( z_1 \\) should be computed as:\n",
        "\n",
        "  $$\n",
        "  |z| = \\sqrt{a^2 + b^2}\n",
        "  $$\n",
        "\n",
        "- The **conjugate** of \\( z_2 \\) should be:\n",
        "\n",
        "  $$\n",
        "  z^* = a - bi\n",
        "  $$\n",
        "\n",
        "- The **product** of \\( z_1 \\) and \\( z_2 \\) should follow **standard complex multiplication rules**:\n",
        "\n",
        "  $$\n",
        "  (a + bi) \\cdot (c + di) = (ac - bd) + (ad + bc)i\n",
        "  $$\n"
      ],
      "metadata": {
        "id": "H4biwA8OEZPs"
      }
    },
    {
      "cell_type": "markdown",
      "source": [
        "## 🎯 Bonus Challenge\n",
        "\n",
        "Modify the function to:  \n",
        "✅ Accept **user input** for \\( z_1 \\) and \\( z_2 \\) instead of **hardcoding values**.  \n",
        "✅ Implement **division of complex numbers**, ensuring **no division by zero**.  \n",
        "\n",
        "---\n",
        "\n",
        "### **Complex Division Formula**:\n",
        "For two complex numbers:\n",
        "\n",
        "$$\n",
        "\\frac{a + bi}{c + di} = \\frac{(a + bi)(c - di)}{c^2 + d^2}\n",
        "$$\n",
        "\n",
        "where the denominator **must not be zero**.\n"
      ],
      "metadata": {
        "id": "3W2Bd_OTEuqn"
      }
    },
    {
      "cell_type": "code",
      "source": [
        "# Start Bonus Challenge Here"
      ],
      "metadata": {
        "id": "y4D5PrAPEzrV"
      },
      "execution_count": null,
      "outputs": []
    },
    {
      "cell_type": "markdown",
      "source": [
        "# 🔹 Activity 3: Introduction to Quantum Circuits with Qiskit"
      ],
      "metadata": {
        "id": "yPRnutS_yrRX"
      }
    },
    {
      "cell_type": "code",
      "source": [
        "#@title  ↓Test out Quantum Circuits By Clicking \"run\" { display-mode: \"form\" }\n",
        "# Import all necessary libraries for this Google Colab sheet\n",
        "\n",
        "circuit = QuantumCircuit(1)\n",
        "circuit.h(0)\n",
        "circuit.s(0)\n",
        "circuit.h(0)\n",
        "circuit.t(0)\n",
        "\n",
        "display(circuit.draw(output=\"mpl\"))"
      ],
      "metadata": {
        "id": "h9qqRdjc34JG"
      },
      "execution_count": null,
      "outputs": []
    },
    {
      "cell_type": "markdown",
      "source": [
        "## 📌 What is a Quantum Circuit?\n",
        "\n",
        "A **Quantum Circuit** is a sequence of **quantum operations (gates)** applied to **qubits**.  \n",
        "In **Qiskit**, you create a **quantum circuit** using the `QuantumCircuit` class.\n",
        "\n",
        "---\n",
        "\n",
        "### 🏗️ Each quantum circuit consists of:\n",
        "\n",
        "- **Qubits** 🧱: The **basic units of quantum information**.  \n",
        "- **Quantum Gates** 🚪: **Operations applied to qubits**.  \n",
        "- **Classical Bits** 💾: Used for **storing measurement results**.  \n",
        "\n",
        "---\n",
        "\n",
        "# 🔹 Task 1: Creating a Basic Quantum Circuit\n",
        "\n",
        "## 🔍 What You'll Learn\n",
        "✅ How to **define quantum circuits** in **Qiskit**  \n",
        "✅ Create a **circuit** with **qubits** and **classical bits**  \n",
        "✅ **Display** the **circuit diagram**  \n",
        "\n",
        "---\n",
        "\n",
        "## ✅ Your Task\n",
        "Modify the following **code** to correctly **create a quantum circuit** with **2 qubits** and **2 classical bits**.\n"
      ],
      "metadata": {
        "id": "208aOuI4E5iT"
      }
    },
    {
      "cell_type": "code",
      "source": [
        "# Import Qiskit\n",
        "from qiskit import ?\n",
        "\n",
        "# TODO: Create a quantum circuit with 2 qubits and 2 classical bits\n",
        "num_qubits = ?  # Replace ? with correct number of qubits\n",
        "num_classical_bits = ?  # Replace ? with correct number of classical bits\n",
        "qc = QuantumCircuit(?, ?)  # Replace ? with correct variables\n",
        "\n",
        "# Print the empty quantum circuit\n",
        "print(qc)\n"
      ],
      "metadata": {
        "id": "iSfsYKujGMCg"
      },
      "execution_count": null,
      "outputs": []
    },
    {
      "cell_type": "markdown",
      "source": [
        "## 📌 Expected Output\n",
        "\n",
        "The output should display an **empty quantum circuit** with **2 qubits** and **2 classical bits**:\n",
        "\n",
        " q_0: ─────────\n",
        "\n",
        " q_1: ─────────\n",
        "\n",
        " c_0: ║────────\n",
        "\n",
        " c_1: ║────────\n",
        "\n"
      ],
      "metadata": {
        "id": "u81hyUZVGcmC"
      }
    },
    {
      "cell_type": "markdown",
      "source": [
        "## 🎯 Bonus Challenge\n",
        "\n",
        "Modify the function to:  \n",
        "✅ Allow the user to **input the number of qubits and classical bits dynamically**.  \n",
        "✅ Implement **circuit visualization** using:\n",
        "\n",
        "```python\n",
        "qc.draw('mpl')\n",
        "```\n",
        "to display the quantum circuit as a diagram."
      ],
      "metadata": {
        "id": "MtvSpSDnHBGX"
      }
    },
    {
      "cell_type": "code",
      "source": [
        "# Start Bonus Challenge Here"
      ],
      "metadata": {
        "id": "0lCM6Fj3HCeA"
      },
      "execution_count": null,
      "outputs": []
    },
    {
      "cell_type": "markdown",
      "source": [
        "# 🔹 Activity 4: Applying Quantum Gates in Qiskit"
      ],
      "metadata": {
        "id": "5OxyTLlMy632"
      }
    },
    {
      "cell_type": "markdown",
      "source": [
        "## 📌 Introduction to Quantum Gates\n",
        "\n",
        "**Quantum gates** manipulate **qubits**, similar to how **classical logic gates** manipulate **bits** in **classical computing**.\n",
        "\n",
        "### 🔢 Some Common Quantum Gates:\n",
        "1️⃣ **Hadamard (H) Gate** – Creates **superposition**, transforming:  \n",
        "   $$ |0⟩ → \\frac{|0⟩ + |1⟩}{\\sqrt{2}} $$\n",
        "2️⃣ **Pauli-X (X) Gate** – **Flips** the qubit state, like a **classical NOT gate**.  \n",
        "3️⃣ **CNOT (CX) Gate** – **Creates entanglement**, flipping the **second qubit** **only if** the **first qubit** is **|1⟩**.  \n",
        "\n",
        "---\n",
        "\n",
        "# 🔹 Task 1: Applying Quantum Gates\n",
        "\n",
        "## 🔍 What You'll Learn\n",
        "✅ How to **apply quantum gates** to **qubits**  \n",
        "✅ Implement **Hadamard (H) and CNOT (CX) gates**  \n",
        "✅ **Visualize** the **updated quantum circuit**  \n",
        "\n",
        "---\n",
        "\n",
        "## ✅ Your Task\n",
        "Modify the following **code** to correctly **apply quantum gates** to the **circuit**.\n"
      ],
      "metadata": {
        "id": "3j5Tgj_jHgmZ"
      }
    },
    {
      "cell_type": "code",
      "source": [
        "# Import Qiskit\n",
        "from qiskit import QuantumCircuit\n",
        "\n",
        "# Create a quantum circuit with 2 qubits and 2 classical bits\n",
        "qc = QuantumCircuit(2, 2)\n",
        "\n",
        "# TODO: Apply a Hadamard gate to the first qubit\n",
        "qc.?(0)  # Replace ? with correct Hadamard gate function\n",
        "\n",
        "# TODO: Apply a CNOT gate where qubit 0 controls qubit 1\n",
        "qc.?(0, 1)  # Replace ? with correct CNOT gate function\n",
        "\n",
        "# Print the updated circuit\n",
        "print(qc)\n"
      ],
      "metadata": {
        "id": "zPQpBuacIRm6"
      },
      "execution_count": null,
      "outputs": []
    },
    {
      "cell_type": "markdown",
      "source": [
        "## 📌 Expected Output\n",
        "\n",
        "The output should display a **quantum circuit** with:  \n",
        "✅ An **H gate (Hadamard gate)** applied to **qubit 0**.  \n",
        "✅ A **CNOT (CX) gate** applied **between qubit 0 and qubit 1**.  \n",
        "\n",
        "---\n",
        "\n",
        "### 🖥️ Example Circuit Diagram:\n"
      ],
      "metadata": {
        "id": "XQ7IoWZ9IzMD"
      }
    },
    {
      "cell_type": "code",
      "source": [
        "     ┌───┐\n",
        "q_0: ┤ H ├──■──\n",
        "     └───┘  │\n",
        "q_1: ───────┼──\n",
        "            │\n",
        "c_0: ═══════╪══\n",
        "            │\n",
        "c_1: ═══════╪══\n"
      ],
      "metadata": {
        "id": "N8GnNfdUIjrX"
      },
      "execution_count": null,
      "outputs": []
    },
    {
      "cell_type": "markdown",
      "source": [
        "## 🎯 Bonus Challenge\n",
        "\n",
        "Modify the circuit to:  \n",
        "✅ **Add an X gate** to **qubit 1** before applying the **CNOT gate**.  \n",
        "✅ **Implement an additional Hadamard (H) gate** to **both qubits** after the **CNOT operation**.  \n",
        "\n",
        "---\n",
        "\n",
        "### 🖥️ Expected Circuit Diagram:\n"
      ],
      "metadata": {
        "id": "I0820UwdJVjm"
      }
    },
    {
      "cell_type": "code",
      "source": [
        "     ┌───┐      ┌───┐\n",
        "q_0: ┤ H ├──■───┤ H ├────\n",
        "     └───┘  │   └───┘\n",
        "                ┌───┐\n",
        "q_1: ──X────┼───┤ H ├────\n",
        "            │   └───┘\n",
        "c_0: ═══════╩═══════════\n",
        "\n",
        "c_1: ══════════════════\n"
      ],
      "metadata": {
        "id": "blhY-iylKKls"
      },
      "execution_count": null,
      "outputs": []
    },
    {
      "cell_type": "code",
      "source": [
        "# Start Bonus Challenge Here"
      ],
      "metadata": {
        "id": "B7Bf0e1KKUDC"
      },
      "execution_count": null,
      "outputs": []
    },
    {
      "cell_type": "markdown",
      "source": [
        "# 🔹 Activity 5: Measurement in Quantum Computing"
      ],
      "metadata": {
        "id": "-DqKnL0yzJlK"
      }
    },
    {
      "cell_type": "markdown",
      "source": [
        "## 📌 Introduction to Quantum Measurement\n",
        "\n",
        "In **quantum computing**, **measurement** collapses a **quantum superposition** into a **classical outcome**.\n",
        "\n",
        "### 🎯 Example:\n",
        "- A qubit in the state:  \n",
        "  $$\n",
        "  |+\\rangle = \\frac{|0\\rangle + |1\\rangle}{\\sqrt{2}}\n",
        "  $$\n",
        "  collapses into either **|0⟩** or **|1⟩** with a **50% probability** when measured.\n",
        "- The **measured value** is **stored in a classical bit** for classical processing.\n",
        "\n",
        "---\n",
        "\n",
        "## 🎯 Your Task:\n",
        "Measure **qubits** and **store the results** in **classical bits**. 🚀\n",
        "\n",
        "---\n",
        "\n",
        "# 🔹 Task 1: Implementing Measurement in Qiskit\n",
        "\n",
        "## 🔍 What You'll Learn\n",
        "✅ How to **measure quantum states** and **store results**  \n",
        "✅ Assign **qubit measurements** to **classical bits**  \n",
        "✅ **Visualize** the **final quantum circuit**  \n",
        "\n",
        "---\n",
        "\n",
        "## ✅ Your Task\n",
        "Modify the following **code** to correctly **measure qubits**.\n"
      ],
      "metadata": {
        "id": "WEOa5BViKaCh"
      }
    },
    {
      "cell_type": "code",
      "source": [
        "# Import Qiskit\n",
        "from qiskit import QuantumCircuit\n",
        "\n",
        "# Create a quantum circuit with 2 qubits and 2 classical bits\n",
        "qc = QuantumCircuit(2, 2)\n",
        "\n",
        "# Apply a Hadamard gate to create superposition\n",
        "qc.h(0)\n",
        "\n",
        "# TODO: Measure qubits and store results in classical bits\n",
        "qc.measure([?, ?], [?, ?])  # Replace ? with correct indices\n",
        "\n",
        "# Print the final circuit\n",
        "print(qc)\n"
      ],
      "metadata": {
        "id": "uv5i5Og0LCr9"
      },
      "execution_count": null,
      "outputs": []
    },
    {
      "cell_type": "markdown",
      "source": [
        "## 📌 Expected Output\n",
        "\n",
        "The printed circuit should display measurement operations on both qubits:"
      ],
      "metadata": {
        "id": "BbXYQruoLHzk"
      }
    },
    {
      "cell_type": "code",
      "source": [
        "     ┌───┐┌─┐\n",
        "q_0: ┤ H ├┤M├───\n",
        "     └───┘└╥┘\n",
        "q_1: ──────╫───\n",
        "            ║\n",
        "c_0: ═══════╩══\n",
        "\n",
        "c_1: ═════════\n"
      ],
      "metadata": {
        "id": "ngO81QfCLTeb"
      },
      "execution_count": null,
      "outputs": []
    },
    {
      "cell_type": "markdown",
      "source": [
        "## 🎯 Bonus Challenge\n",
        "\n",
        "Modify the circuit to:  \n",
        "✅ Apply a **Hadamard gate** to **both qubits** before **measurement**.  \n",
        "✅ Use a **simulator** to run the circuit and **display the measured results**.  \n",
        "\n",
        "---\n",
        "\n",
        "### 🖥️ Expected Output:\n",
        "- The circuit should include **H gates** before **measurement**.  \n",
        "- The **simulated results** should show an **even distribution** of **|00⟩, |01⟩, |10⟩, and |11⟩** due to **superposition**.  \n",
        "- The **measurement counts** should reflect **random quantum outcomes**.\n",
        "\n",
        "---\n",
        "\n",
        "### 🔢 Hint:\n",
        "To run the circuit on a **Qiskit simulator**, use:\n",
        "\n",
        "```python\n",
        "from qiskit import Aer, execute\n",
        "\n",
        "simulator = Aer.get_backend('qasm_simulator')\n",
        "job = execute(qc, simulator, shots=1024)\n",
        "result = job.result()\n",
        "counts = result.get_counts(qc)\n",
        "\n",
        "print(counts)\n"
      ],
      "metadata": {
        "id": "jFT6GVK9LZZU"
      }
    },
    {
      "cell_type": "markdown",
      "source": [
        "# 🔹 Activity 6: Running and Simulating a Quantum Circuit in Qiskit"
      ],
      "metadata": {
        "id": "W3ef5J6qzVK6"
      }
    },
    {
      "cell_type": "code",
      "source": [
        "#@title  ↓See the Hadamard gate Quantum Circuits By Clicking \"run\" { display-mode: \"form\" }\n",
        "from qiskit import QuantumRegister, QuantumCircuit\n",
        "from qiskit.visualization import circuit_drawer\n",
        "import matplotlib.pyplot as plt\n",
        "\n",
        "# Define quantum register with named qubits\n",
        "X = QuantumRegister(1, \"X\")\n",
        "Y = QuantumRegister(1, \"Y\")\n",
        "\n",
        "# Create a quantum circuit using both registers\n",
        "circuit = QuantumCircuit(Y,X)\n",
        "\n",
        "# Apply Hadamard gate to X\n",
        "circuit.h(Y)\n",
        "\n",
        "# Apply CNOT with X as control and Y as target\n",
        "circuit.cx(Y, X)\n",
        "\n",
        "# Draw the circuit\n",
        "display(circuit.draw(output=\"mpl\"))\n",
        "display(Operator.from_circuit(circuit).draw(\"latex\"))\n"
      ],
      "metadata": {
        "id": "R5OjNXDL4VN0"
      },
      "execution_count": null,
      "outputs": []
    },
    {
      "cell_type": "markdown",
      "source": [
        "## 📌 Introduction to Simulating a Quantum Circuit\n",
        "\n",
        "**Qiskit** allows us to **simulate quantum circuits** before running them on **real quantum hardware**.\n",
        "\n",
        "### 🖥️ The **Qasm Simulator** in Qiskit:\n",
        "The **Qasm Simulator** mimics **quantum computation on classical computers**, allowing us to:  \n",
        "✅ **Test quantum circuits** without **noise**  \n",
        "✅ **Observe quantum measurement distributions**  \n",
        "✅ **Debug and optimize** algorithms before **real execution**  \n",
        "\n",
        "---\n",
        "\n",
        "## 🎯 Your Task:\n",
        "Simulate a **quantum circuit** using the **Qasm simulator** and **visualize the results**. 🚀  \n",
        "\n",
        "---\n",
        "\n",
        "## 🔹 Task 1: Running the Quantum Circuit on a Simulator\n",
        "\n",
        "## 🔍 What You'll Learn\n",
        "✅ How to **execute a quantum circuit** using the **Qasm simulator**  \n",
        "✅ Retrieve **measurement results** from the **simulation**  \n",
        "✅ Interpret **probability distributions** from **quantum measurement outcomes**  \n",
        "\n",
        "---\n",
        "\n",
        "## ✅ Your Task\n",
        "Modify the following **code** to correctly **execute the quantum circuit** on a **simulator**.\n"
      ],
      "metadata": {
        "id": "Hh4r9bF_MGrg"
      }
    },
    {
      "cell_type": "code",
      "source": [
        "# Import Qiskit and Matplotlib\n",
        "from qiskit import QuantumCircuit\n",
        "from qiskit.quantum_info import Statevector\n",
        "import matplotlib.pyplot as plt\n",
        "\n",
        "# Create a quantum circuit with 2 qubits (NO classical bits)\n",
        "qc = QuantumCircuit(2)\n",
        "\n",
        "# Apply a Hadamard gate to create superposition\n",
        "qc.h(0)\n",
        "\n",
        "# Apply a CNOT gate to entangle qubits (optional, for Bell state)\n",
        "qc.cx(?, ?)\n",
        "\n",
        "# Simulate the quantum state using Statevector\n",
        "state = Statevector.from_instruction(qc)\n",
        "\n",
        "# Get probability distribution from state amplitudes\n",
        "probabilities = state.probabilities_dict()\n",
        "\n",
        "# Print state probabilities\n",
        "print(\"\\nQuantum State Probabilities:\")\n",
        "print(?)"
      ],
      "metadata": {
        "id": "5_vtTCQ5kgp9"
      },
      "execution_count": null,
      "outputs": []
    },
    {
      "cell_type": "markdown",
      "source": [
        "## 🔹 Task 2: Visualizing Measurement Results\n",
        "\n",
        "## 🔍 What You'll Learn\n",
        "✅ How **measurement probabilities** are **distributed**  \n",
        "✅ Use **bar plots** to **visualize quantum state collapses**  \n",
        "✅ Interpret **randomness** in **quantum measurements**  \n",
        "\n",
        "---\n",
        "\n",
        "## ✅ Your Task\n",
        "Modify the following **code** to correctly **plot the measurement results**.\n"
      ],
      "metadata": {
        "id": "MLQ4VY-GMVwf"
      }
    },
    {
      "cell_type": "code",
      "source": [
        "# Plot the measurement results\n",
        "plt.bar(?, ?, color='blue')  # Replace ? with correct data\n",
        "plt.xlabel(\"Quantum State\")\n",
        "plt.ylabel(\"Probability\")\n",
        "plt.title(\"Quantum Circuit State Probabilities\")\n",
        "plt.show()\n"
      ],
      "metadata": {
        "id": "yOTEQHm0MeqF"
      },
      "execution_count": null,
      "outputs": []
    },
    {
      "cell_type": "markdown",
      "source": [
        "## 📌 Expected Output\n",
        "\n",
        "- The **printed results** should show a **dictionary of measurement outcomes**, for example:\n",
        "\n",
        "  ```python\n",
        "  {'00': 520, '01': 504, '10': 512, '11': 488}\n",
        "```\n",
        "\n",
        "- The **bar chart** should display the **frequency of measured states.**"
      ],
      "metadata": {
        "id": "Tg2Q0IHEMgsr"
      }
    },
    {
      "cell_type": "markdown",
      "source": [
        "# Test Experiment - Run the following code without change"
      ],
      "metadata": {
        "id": "MaxkNh5z5qOD"
      }
    },
    {
      "cell_type": "markdown",
      "source": [
        "### **In general, quantum circuits can contain any number of qubit wires. We may also include classical bit wires, which are indicated by double lines, like in this example:**"
      ],
      "metadata": {
        "id": "QoLlU0ss7RTG"
      }
    },
    {
      "cell_type": "code",
      "source": [
        "X = QuantumRegister(1, \"X\")\n",
        "Y = QuantumRegister(1, \"Y\")\n",
        "A = ClassicalRegister(1, \"A\")\n",
        "B = ClassicalRegister(1, \"B\")\n",
        "\n",
        "circuit = QuantumCircuit(Y, X, B, A)\n",
        "circuit.h(Y)\n",
        "circuit.cx(Y, X)\n",
        "circuit.measure(Y, B)\n",
        "circuit.measure(X, A)\n",
        "\n",
        "display(circuit.draw(output=\"mpl\"))"
      ],
      "metadata": {
        "id": "-Dm9dfW05bdA"
      },
      "execution_count": null,
      "outputs": []
    },
    {
      "cell_type": "markdown",
      "source": [
        "### **Here we have a Hadamard gate and a controlled-NOT gate on two qubits X and Y, just like in the previous example. We also have two classical bits, A and B, as well as two measurement gates.**\n",
        "\n",
        "##### **The measurement gates represent standard basis measurements: the qubits are changed into their post-measurement states, while the measurement outcomes are overwritten onto the classical bits to which the arrows point.**\n",
        "\n",
        "##### **The circuit can be simulated using a classical computer like this:**"
      ],
      "metadata": {
        "id": "TR5q07R16aDQ"
      }
    },
    {
      "cell_type": "code",
      "source": [
        "result = AerSimulator().run(circuit).result()\n",
        "statistics = result.get_counts()\n",
        "display(plot_histogram(statistics))"
      ],
      "metadata": {
        "id": "W7jhKdEy5dYI"
      },
      "execution_count": null,
      "outputs": []
    },
    {
      "cell_type": "markdown",
      "source": [
        "The `AerSimulator` supports a variety of simulation methods, each of which supports a different set of instructions. The method can be set manually using `simulator(method=value)` option, or a simulator backend with a preconfigured method can be obtained directly from the `AerSimulator`\n",
        "\n",
        "See details here - https://qiskit.github.io/qiskit-aer/tutorials/1_aersimulator.html"
      ],
      "metadata": {
        "id": "W2ThKLT164sr"
      }
    },
    {
      "cell_type": "code",
      "source": [
        "# Increase shots to reduce sampling variance\n",
        "shots = 10000\n",
        "\n",
        "# Statevector simulation method\n",
        "sim_statevector = AerSimulator(method='statevector')\n",
        "job_statevector = sim_statevector.run(circuit, shots=shots)\n",
        "counts_statevector = job_statevector.result().get_counts(0)\n",
        "\n",
        "# Stabilizer simulation method\n",
        "sim_stabilizer = AerSimulator(method='stabilizer')\n",
        "job_stabilizer = sim_stabilizer.run(circuit, shots=shots)\n",
        "counts_stabilizer = job_stabilizer.result().get_counts(0)\n",
        "\n",
        "\n",
        "# Extended Stabilizer method\n",
        "sim_extstabilizer = AerSimulator(method='extended_stabilizer')\n",
        "job_extstabilizer = sim_extstabilizer.run(circuit, shots=shots)\n",
        "counts_extstabilizer = job_extstabilizer.result().get_counts(0)\n",
        "\n",
        "# Density Matrix simulation method\n",
        "sim_density = AerSimulator(method='density_matrix')\n",
        "job_density = sim_density.run(circuit, shots=shots)\n",
        "counts_density = job_density.result().get_counts(0)\n",
        "\n",
        "# Matrix Product State simulation method\n",
        "sim_mps = AerSimulator(method='matrix_product_state')\n",
        "job_mps = sim_mps.run(circuit, shots=shots)\n",
        "counts_mps = job_mps.result().get_counts(0)\n",
        "\n",
        "\n",
        "plot_histogram([ counts_statevector,counts_stabilizer ,counts_extstabilizer, counts_density, counts_mps],\n",
        "               title='Counts for different simulation methods',\n",
        "               legend=[ 'statevector',\n",
        "                       'density_matrix','stabilizer','extended_stabilizer', 'matrix_product_state'])"
      ],
      "metadata": {
        "id": "SJKLAFK55k9r"
      },
      "execution_count": null,
      "outputs": []
    },
    {
      "cell_type": "markdown",
      "source": [
        "## 🎯 Bonus Challenge\n",
        "\n",
        "Modify the circuit to:  \n",
        "✅ **Apply an X gate** to **qubit 1** before measurement and **observe changes**.  \n",
        "✅ **Increase the number of shots** to **10,000** and analyze **statistical stability**.  \n",
        "\n",
        "---\n",
        "\n",
        "### 🔎 What to Observe:\n",
        "- How does applying **X to qubit 1** affect the measurement probabilities?  \n",
        "- Does increasing the **shots** to **10,000** make the distribution **more stable**?  \n",
        "- Compare results between **1,024 shots** and **10,000 shots** to see **differences in randomness**.\n"
      ],
      "metadata": {
        "id": "Ts5MQYSbNj6p"
      }
    },
    {
      "cell_type": "code",
      "source": [
        "# Start Bonus Challenge Here"
      ],
      "metadata": {
        "id": "45eI4u4ONp9C"
      },
      "execution_count": null,
      "outputs": []
    },
    {
      "cell_type": "markdown",
      "source": [
        "# 🔹 Activity 7: Eigenvalues and Eigenvectors in Quantum Mechanics"
      ],
      "metadata": {
        "id": "Uj9HHeAMzpD8"
      }
    },
    {
      "cell_type": "markdown",
      "source": [
        "## 📌 Introduction to Eigenvalues and Eigenvectors in Quantum Mechanics\n",
        "\n",
        "In **quantum computing**, **measurement** corresponds to **eigenvalues** of **Hermitian operators**.\n",
        "\n",
        "### 🔬 Key Concepts:\n",
        "- **Quantum observables** (such as **position, momentum, and spin**) are represented as **Hermitian matrices**.  \n",
        "- The **eigenvalues** of an observable correspond to **possible measurement outcomes**.  \n",
        "- The **eigenvectors** represent **quantum states** associated with those **measurement outcomes**.  \n",
        "\n",
        "---\n",
        "\n",
        "## 🎯 Your Task:\n",
        "Define a **Hermitian matrix** and compute its **eigenvalues and eigenvectors**. 🚀  \n",
        "\n",
        "---\n",
        "\n",
        "# 🔹 Task 1: Computing Eigenvalues and Eigenvectors\n",
        "\n",
        "## 🔍 What You'll Learn\n",
        "✅ How to **define Hermitian matrices** in **Python**  \n",
        "✅ Compute **eigenvalues** (possible measurement outcomes)  \n",
        "✅ Compute **eigenvectors** (corresponding quantum states)  \n",
        "\n",
        "---\n",
        "\n",
        "## ✅ Your Task\n",
        "Modify the following **code** to correctly **define a 2×2 Hermitian matrix** and compute its **eigenvalues and eigenvectors**.\n"
      ],
      "metadata": {
        "id": "JVkzshJQNtnH"
      }
    },
    {
      "cell_type": "code",
      "source": [
        "import numpy as np\n",
        "\n",
        "# TODO: Define a 2x2 Hermitian matrix\n",
        "matrix = np.array([[?, ?],  # Replace ? with valid matrix elements\n",
        "                   [?, ?]])\n",
        "\n",
        "# Compute eigenvalues and eigenvectors\n",
        "eigenvalues, eigenvectors = np.linalg.eig(?)\n",
        "\n",
        "# Print results\n",
        "print(\"Eigenvalues:\", ?)\n",
        "print(\"Eigenvectors:\")\n",
        "print(?)\n"
      ],
      "metadata": {
        "id": "CuXKDqQEO-Yd"
      },
      "execution_count": null,
      "outputs": []
    },
    {
      "cell_type": "markdown",
      "source": [
        "## 🎯 Bonus Challenge\n",
        "\n",
        "Modify the function to:  \n",
        "✅ **Verify** that the matrix is **Hermitian** by checking:  \n",
        "   ```python\n",
        "   np.allclose(matrix, matrix.T.conj())\n",
        "```\n",
        "✅ **Extend it to a 3×3 Hermitian matrix and compute eigenvalues and eigenvectors.**\n",
        "\n",
        "---\n",
        "\n",
        "## 🔎 What to Observe:\n",
        "- Does the function correctly **identify** whether the matrix is **Hermitian**?  \n",
        "- How do **eigenvalues** and **eigenvectors** change when moving from **2×2** to **3×3** matrices?  \n",
        "- Can you **interpret the quantum states** associated with these **higher-dimensional matrices**?  \n"
      ],
      "metadata": {
        "id": "2aqy4oGxPCWz"
      }
    },
    {
      "cell_type": "code",
      "source": [
        "# Start Bonus Challenge Here"
      ],
      "metadata": {
        "id": "4Q9rgJnPQSun"
      },
      "execution_count": null,
      "outputs": []
    },
    {
      "cell_type": "markdown",
      "source": [
        "# 🔹 Activity 8: Unitary and Hermitian Operators in Quantum Computing"
      ],
      "metadata": {
        "id": "GXXC5I32z0hJ"
      }
    },
    {
      "cell_type": "markdown",
      "source": [
        "## 📌 Introduction to Unitary and Hermitian Operators\n",
        "\n",
        "**Quantum operations** are represented by **matrices**, which must satisfy specific **mathematical properties**.\n",
        "\n",
        "### 🔢 Key Concepts:\n",
        "\n",
        "- **Unitary Operators** preserve **quantum state normalization**. A matrix \\( U \\) is **unitary** if:  \n",
        "  $$\n",
        "  U U^\\dagger = I\n",
        "  $$\n",
        "  where \\( U^\\dagger \\) is the **conjugate transpose** of \\( U \\), and \\( I \\) is the **identity matrix**.\n",
        "\n",
        "- **Hermitian Operators** represent **observable/measurable quantities** in **quantum mechanics**. A matrix \\( H \\) is **Hermitian** if:  \n",
        "  $$\n",
        "  H = H^\\dagger\n",
        "  $$\n",
        "\n",
        "---\n",
        "\n",
        "## 🎯 Your Task:\n",
        "Define a **unitary matrix** and **verify its properties**. 🚀  \n",
        "\n",
        "---\n",
        "\n",
        "# 🔹 Task 1: Defining and Verifying a Unitary Matrix\n",
        "\n",
        "## 🔍 What You'll Learn\n",
        "✅ How to **define unitary matrices**  \n",
        "✅ Verify **unitary conditions** in **Python**  \n",
        "✅ Interpret the **role of unitary transformations** in **quantum computing**  \n",
        "\n",
        "---\n",
        "\n",
        "## ✅ Your Task\n",
        "Modify the following **code** to correctly **define a unitary matrix** and **verify its properties**.\n"
      ],
      "metadata": {
        "id": "jCNfxjaOQVwo"
      }
    },
    {
      "cell_type": "code",
      "source": [
        "import numpy as np\n",
        "\n",
        "# TODO: Define a unitary matrix\n",
        "unitary_matrix = np.array([[?, ?],  # Replace ? with valid unitary elements\n",
        "                           [?, ?]])\n",
        "\n",
        "# Verify if the matrix is unitary\n",
        "unitary_check = np.allclose(np.dot(?, ?.conj().T), np.eye(2))  # Replace ? with correct matrix operations\n",
        "\n",
        "# Print result\n",
        "print(\"Is the matrix unitary?\", unitary_check)\n"
      ],
      "metadata": {
        "id": "ZagftZuPQgCh"
      },
      "execution_count": null,
      "outputs": []
    },
    {
      "cell_type": "markdown",
      "source": [
        "## 📌 Expected Output\n",
        "\n",
        "If the matrix is unitary, it should print:  \n",
        "```\n",
        "Is the matrix unitary? True\n",
        "```\n",
        "If the matrix is not unitary, it should print:  \n",
        "```\n",
        "Is the matrix unitary? False\n",
        "```"
      ],
      "metadata": {
        "id": "nRE7XpMAQhxD"
      }
    },
    {
      "cell_type": "markdown",
      "source": [
        "## 🎯 Bonus Challenge\n",
        "\n",
        "Modify the function to:  \n",
        "✅ Verify whether the matrix is Hermitian by checking:  \n",
        "```python\n",
        "matrix == matrix.conj().T\n",
        "```\n",
        "✅ Extend the function to test **3×3 unitary and Hermitian matrices**.  \n"
      ],
      "metadata": {
        "id": "EBQPK0mpSAip"
      }
    },
    {
      "cell_type": "code",
      "source": [
        "# Start Bonus Challenge Here"
      ],
      "metadata": {
        "id": "CtmKZ2PNSBx7"
      },
      "execution_count": null,
      "outputs": []
    },
    {
      "cell_type": "markdown",
      "source": [
        "# 🔹 Activity 9: Creating an Entangled State (Bell State)"
      ],
      "metadata": {
        "id": "kzQlF6Jfz-wn"
      }
    },
    {
      "cell_type": "markdown",
      "source": [
        "## 📌 Introduction to Entanglement and Bell States\n",
        "\n",
        "**Entanglement** is a fundamental **quantum phenomenon** where **two qubits become correlated**, meaning that **measuring one instantly determines the state of the other**, no matter how far apart they are.\n",
        "\n",
        "One of the simplest **entangled states** is the **Bell State**:\n",
        "\n",
        "$$\n",
        "|\\Phi^+\\rangle = \\frac{|00\\rangle + |11\\rangle}{\\sqrt{2}}\n",
        "$$\n",
        "\n",
        "To create this **Bell State**, we:  \n",
        "1️⃣ **Apply a Hadamard (H) gate** to the **first qubit** to create **superposition**.  \n",
        "2️⃣ **Apply a CNOT (CX) gate**, entangling the **first qubit** with the **second**.  \n",
        "3️⃣ **Measure both qubits** to observe the **entanglement**.  \n",
        "\n",
        "---\n",
        "\n",
        "## 🎯 Your Task:\n",
        "Implement these steps in **Qiskit** and **print the entangled circuit**. 🚀  \n",
        "\n",
        "---\n",
        "\n",
        "# 🔹 Task 1: Implementing the Bell State Circuit\n",
        "\n",
        "## 🔍 What You'll Learn\n",
        "✅ How to **create an entangled state** using **Hadamard and CNOT gates**  \n",
        "✅ Measure **both qubits** and store results in **classical bits**  \n",
        "✅ **Visualize** the final **quantum circuit**  \n",
        "\n",
        "---\n",
        "\n",
        "## ✅ Your Task\n",
        "Modify the following **code** to correctly **create and measure an entangled Bell state**.\n"
      ],
      "metadata": {
        "id": "WG23ukKoSYZA"
      }
    },
    {
      "cell_type": "code",
      "source": [
        "# Import Qiskit\n",
        "from qiskit import QuantumCircuit\n",
        "\n",
        "# Create a 2-qubit quantum circuit\n",
        "qc_ent = QuantumCircuit(2, 2)\n",
        "\n",
        "# TODO: Apply Hadamard gate to the first qubit\n",
        "qc_ent.?(0)  # Replace ? with correct Hadamard gate function\n",
        "\n",
        "# TODO: Apply a CNOT gate with qubit 0 as control and qubit 1 as target\n",
        "qc_ent.?(0, 1)  # Replace ? with correct CNOT gate function\n",
        "\n",
        "# TODO: Measure the qubits\n",
        "qc_ent.measure([?, ?], [?, ?])  # Replace ? with correct qubit and classical bit indices\n",
        "\n",
        "# Print the entangled circuit\n",
        "print(qc_ent)\n"
      ],
      "metadata": {
        "id": "ED5vpyAaSY9B"
      },
      "execution_count": null,
      "outputs": []
    },
    {
      "cell_type": "markdown",
      "source": [
        "## 📌 Expected Output\n",
        "\n",
        "The **printed circuit** should display the **Hadamard gate** on **qubit 0**, a **CNOT gate**, and **measurement operations**:\n",
        "\n",
        "```\n",
        "     ┌───┐     \n",
        "q_0: ┤ H ├──■──┤M├───\n",
        "     └───┘  │  ║    \n",
        "q_1: ───────X──┤M├───\n",
        "              ║    \n",
        "c_0: ═════════╩═══\n",
        "                  \n",
        "c_1: ════════════\n",
        "```\n",
        "\n",
        "---\n"
      ],
      "metadata": {
        "id": "NeRL1HoeSaKw"
      }
    },
    {
      "cell_type": "markdown",
      "source": [
        "## 🎯 Bonus Challenge\n",
        "\n",
        "Modify the circuit to:  \n",
        "✅ **Apply an additional Hadamard gate** to **qubit 1** before measurement.  \n",
        "✅ **Run the circuit on a simulator** and **visualize the measurement results**.  "
      ],
      "metadata": {
        "id": "t6OCnlx2TP25"
      }
    },
    {
      "cell_type": "code",
      "source": [
        "# Start Bonus Challenge Here"
      ],
      "metadata": {
        "id": "E6Gc4ZPcTQ3H"
      },
      "execution_count": null,
      "outputs": []
    }
  ]
}